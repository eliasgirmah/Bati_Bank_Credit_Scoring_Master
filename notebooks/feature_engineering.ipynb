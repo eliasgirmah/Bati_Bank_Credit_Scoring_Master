{
 "cells": [
  {
   "cell_type": "code",
   "execution_count": 7,
   "id": "8101cb3d-011c-4ffb-ad4c-3af90e6a7a6b",
   "metadata": {},
   "outputs": [
    {
     "ename": "ImportError",
     "evalue": "cannot import name 'WoE' from 'xverse.transformer' (C:\\Users\\user\\anaconda3\\Lib\\site-packages\\xverse\\transformer\\__init__.py)",
     "output_type": "error",
     "traceback": [
      "\u001b[1;31m---------------------------------------------------------------------------\u001b[0m",
      "\u001b[1;31mImportError\u001b[0m                               Traceback (most recent call last)",
      "Cell \u001b[1;32mIn[7], line 2\u001b[0m\n\u001b[0;32m      1\u001b[0m \u001b[38;5;28;01mimport\u001b[39;00m \u001b[38;5;21;01mpandas\u001b[39;00m \u001b[38;5;28;01mas\u001b[39;00m \u001b[38;5;21;01mpd\u001b[39;00m\n\u001b[1;32m----> 2\u001b[0m \u001b[38;5;28;01mfrom\u001b[39;00m \u001b[38;5;21;01mxverse\u001b[39;00m\u001b[38;5;21;01m.\u001b[39;00m\u001b[38;5;21;01mtransformer\u001b[39;00m \u001b[38;5;28;01mimport\u001b[39;00m WoE\n\u001b[0;32m      3\u001b[0m \u001b[38;5;28;01mfrom\u001b[39;00m \u001b[38;5;21;01msklearn\u001b[39;00m\u001b[38;5;21;01m.\u001b[39;00m\u001b[38;5;21;01mpreprocessing\u001b[39;00m \u001b[38;5;28;01mimport\u001b[39;00m OneHotEncoder\n\u001b[0;32m      5\u001b[0m \u001b[38;5;28;01mdef\u001b[39;00m \u001b[38;5;21mperform_feature_engineering\u001b[39m(df, customer_id_col, transaction_amount_col, transaction_start_time_col, target_col, categorical_cols):\n",
      "\u001b[1;31mImportError\u001b[0m: cannot import name 'WoE' from 'xverse.transformer' (C:\\Users\\user\\anaconda3\\Lib\\site-packages\\xverse\\transformer\\__init__.py)"
     ]
    }
   ],
   "source": [
    "import pandas as pd\n",
    "from xverse.transformer import WoE\n",
    "from sklearn.preprocessing import OneHotEncoder\n",
    "\n",
    "def perform_feature_engineering(df, customer_id_col, transaction_amount_col, transaction_start_time_col, target_col, categorical_cols):\n",
    "    df[transaction_start_time_col] = pd.to_datetime(df[transaction_start_time_col])\n",
    "    df['Transaction_Hour'] = df[transaction_start_time_col].dt.hour\n",
    "    df['Transaction_Day'] = df[transaction_start_time_col].dt.day\n",
    "    df['Transaction_Weekday'] = df[transaction_start_time_col].dt.weekday\n",
    "    df['Transaction_Month'] = df[transaction_start_time_col].dt.month\n",
    "\n",
    "    encoder = OneHotEncoder(sparse=False, drop='first')\n",
    "    encoded_cats = encoder.fit_transform(df[categorical_cols])\n",
    "    encoded_df = pd.DataFrame(encoded_cats, columns=encoder.get_feature_names_out(categorical_cols))\n",
    "    \n",
    "    df = pd.concat([df, encoded_df], axis=1)\n",
    "    df.drop(columns=categorical_cols, inplace=True)\n",
    "\n",
    "    woe = WoE()\n",
    "    df = woe.fit_transform(df[categorical_cols], df[target_col])\n",
    "\n",
    "    return df\n",
    "\n",
    "# Load your dataset\n",
    "df = pd.read_csv('../data/cleaned_data.csv')  # Replace with your actual dataset path\n",
    "\n",
    "# Specify the columns\n",
    "customer_id_col = 'CustomerId'\n",
    "transaction_amount_col = 'Amount'  # Adjust if your dataset uses a different name\n",
    "transaction_start_time_col = 'TransactionStartTime'\n",
    "target_col = 'FraudResult'  # Specify your target variable\n",
    "categorical_cols = ['ProductCategory_airtime', 'ProductCategory_data_bundles', 'ProductCategory_financial_services']  # Adjust as necessary\n",
    "\n",
    "# Perform feature engineering\n",
    "result_df = perform_feature_engineering(df, customer_id_col, transaction_amount_col, transaction_start_time_col, target_col, categorical_cols)\n",
    "\n",
    "# Display the result\n",
    "result_df.head()\n"
   ]
  },
  {
   "cell_type": "code",
   "execution_count": 4,
   "id": "d319b0a4-2062-4231-ba9a-ba7d621653fc",
   "metadata": {},
   "outputs": [
    {
     "name": "stdout",
     "output_type": "stream",
     "text": [
      "Name: xverse\n",
      "Version: 1.0.5\n",
      "Summary: xverse short for X uniVerse is collection of transformers for feature engineering and feature selection\n",
      "Home-page: https://github.com/Sundar0989/XuniVerse\n",
      "Author: Sundar Krishnan\n",
      "Author-email: sundarstyles89@gmail.com\n",
      "License: MIT\n",
      "Location: C:\\Users\\user\\anaconda3\\Lib\\site-packages\n",
      "Requires: matplotlib, numpy, pandas, scikit-learn, scipy, statsmodels\n",
      "Required-by: \n",
      "Note: you may need to restart the kernel to use updated packages.\n"
     ]
    }
   ],
   "source": [
    "pip show xverse\n"
   ]
  },
  {
   "cell_type": "code",
   "execution_count": 5,
   "id": "b7064cf7-95b3-424a-9386-d24b9f46e652",
   "metadata": {},
   "outputs": [
    {
     "name": "stdout",
     "output_type": "stream",
     "text": [
      "Requirement already satisfied: pandas in c:\\users\\user\\anaconda3\\lib\\site-packages (2.2.2)\n",
      "Requirement already satisfied: numpy in c:\\users\\user\\anaconda3\\lib\\site-packages (1.26.4)\n",
      "Requirement already satisfied: scikit-learn in c:\\users\\user\\anaconda3\\lib\\site-packages (1.4.2)\n",
      "Requirement already satisfied: python-dateutil>=2.8.2 in c:\\users\\user\\anaconda3\\lib\\site-packages (from pandas) (2.9.0.post0)\n",
      "Requirement already satisfied: pytz>=2020.1 in c:\\users\\user\\anaconda3\\lib\\site-packages (from pandas) (2024.1)\n",
      "Requirement already satisfied: tzdata>=2022.7 in c:\\users\\user\\anaconda3\\lib\\site-packages (from pandas) (2023.3)\n",
      "Requirement already satisfied: scipy>=1.6.0 in c:\\users\\user\\anaconda3\\lib\\site-packages (from scikit-learn) (1.13.1)\n",
      "Requirement already satisfied: joblib>=1.2.0 in c:\\users\\user\\anaconda3\\lib\\site-packages (from scikit-learn) (1.4.2)\n",
      "Requirement already satisfied: threadpoolctl>=2.0.0 in c:\\users\\user\\anaconda3\\lib\\site-packages (from scikit-learn) (2.2.0)\n",
      "Requirement already satisfied: six>=1.5 in c:\\users\\user\\anaconda3\\lib\\site-packages (from python-dateutil>=2.8.2->pandas) (1.16.0)\n",
      "Note: you may need to restart the kernel to use updated packages.\n"
     ]
    }
   ],
   "source": [
    "pip install pandas numpy scikit-learn\n"
   ]
  },
  {
   "cell_type": "code",
   "execution_count": null,
   "id": "747ccc8e-2e88-43e2-a253-36f2d6ed6746",
   "metadata": {},
   "outputs": [],
   "source": []
  }
 ],
 "metadata": {
  "kernelspec": {
   "display_name": "Python 3 (ipykernel)",
   "language": "python",
   "name": "python3"
  },
  "language_info": {
   "codemirror_mode": {
    "name": "ipython",
    "version": 3
   },
   "file_extension": ".py",
   "mimetype": "text/x-python",
   "name": "python",
   "nbconvert_exporter": "python",
   "pygments_lexer": "ipython3",
   "version": "3.12.3"
  }
 },
 "nbformat": 4,
 "nbformat_minor": 5
}
