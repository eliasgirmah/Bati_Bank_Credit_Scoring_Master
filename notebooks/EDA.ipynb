{
 "cells": [
  {
   "cell_type": "markdown",
   "id": "b83b7433-6ee3-40b0-95dd-32b18e9891c3",
   "metadata": {},
   "source": [
    "# Credit Scoring Model Development at Bati Bank\n",
    "### This project focuses on developing a machine learning model to classify credit scores based on a person's credit-related information.\n",
    "### Objectives of the Project\n",
    "#### •\tDevelop a proxy variable to categorize users as high or low risk.\n",
    "#### •\tSelect features with high correlation to the default variable.\n",
    "#### •\tBuild a model that estimates risk probability for new customers.\n",
    "#### •\tCreate a credit scoring system using risk probability estimates.\n",
    "#### •\tOptimize loan amount and duration using model predictions.\n",
    "\n"
   ]
  },
  {
   "cell_type": "raw",
   "id": "ab4ea64f-12f9-4bd1-8066-0b9479288596",
   "metadata": {},
   "source": [
    "Import Libraries and Data"
   ]
  },
  {
   "cell_type": "code",
   "execution_count": 6,
   "id": "17772761-45d9-407f-aa8e-0872b9865760",
   "metadata": {},
   "outputs": [],
   "source": [
    "import numpy as np\n",
    "import pandas as pd\n",
    "import matplotlib.pyplot as plt\n",
    "import seaborn as sns\n",
    "\n",
    "from skimpy import clean_columns\n",
    "\n",
    "import warnings\n",
    "warnings.filterwarnings(\"ignore\")\n",
    "warnings.warn(\"this will not show\")\n",
    "\n",
    "plt.rcParams[\"figure.figsize\"] = (10,6)\n",
    "\n",
    "sns.set_style(\"whitegrid\")\n",
    "pd.set_option('display.float_format', lambda x: '%.3f' % x)\n",
    "\n",
    "# Set it None to display all rows in the dataframe\n",
    "# pd.set_option('display.max_rows', None)\n",
    "\n",
    "# Set it to None to display all columns in the dataframe\n",
    "pd.set_option('display.max_columns', None)\n"
   ]
  },
  {
   "cell_type": "markdown",
   "id": "2e3f6af3-4643-4370-8643-2e2e503155d8",
   "metadata": {},
   "source": [
    "### Read Data Set\n"
   ]
  },
  {
   "cell_type": "code",
   "execution_count": 10,
   "id": "6d11f97c-5972-4b23-825e-41fa32f28e8b",
   "metadata": {},
   "outputs": [],
   "source": [
    "df = pd.read_csv(\"../data/data.csv\")"
   ]
  },
  {
   "cell_type": "code",
   "execution_count": 11,
   "id": "14b35566-48af-4a18-95bd-94187251c10c",
   "metadata": {},
   "outputs": [
    {
     "data": {
      "text/html": [
       "<div>\n",
       "<style scoped>\n",
       "    .dataframe tbody tr th:only-of-type {\n",
       "        vertical-align: middle;\n",
       "    }\n",
       "\n",
       "    .dataframe tbody tr th {\n",
       "        vertical-align: top;\n",
       "    }\n",
       "\n",
       "    .dataframe thead th {\n",
       "        text-align: right;\n",
       "    }\n",
       "</style>\n",
       "<table border=\"1\" class=\"dataframe\">\n",
       "  <thead>\n",
       "    <tr style=\"text-align: right;\">\n",
       "      <th></th>\n",
       "      <th>TransactionId</th>\n",
       "      <th>BatchId</th>\n",
       "      <th>AccountId</th>\n",
       "      <th>SubscriptionId</th>\n",
       "      <th>CustomerId</th>\n",
       "      <th>CurrencyCode</th>\n",
       "      <th>CountryCode</th>\n",
       "      <th>ProviderId</th>\n",
       "      <th>ProductId</th>\n",
       "      <th>ProductCategory</th>\n",
       "      <th>ChannelId</th>\n",
       "      <th>Amount</th>\n",
       "      <th>Value</th>\n",
       "      <th>TransactionStartTime</th>\n",
       "      <th>PricingStrategy</th>\n",
       "      <th>FraudResult</th>\n",
       "    </tr>\n",
       "  </thead>\n",
       "  <tbody>\n",
       "    <tr>\n",
       "      <th>0</th>\n",
       "      <td>TransactionId_76871</td>\n",
       "      <td>BatchId_36123</td>\n",
       "      <td>AccountId_3957</td>\n",
       "      <td>SubscriptionId_887</td>\n",
       "      <td>CustomerId_4406</td>\n",
       "      <td>UGX</td>\n",
       "      <td>256</td>\n",
       "      <td>ProviderId_6</td>\n",
       "      <td>ProductId_10</td>\n",
       "      <td>airtime</td>\n",
       "      <td>ChannelId_3</td>\n",
       "      <td>1000.000</td>\n",
       "      <td>1000</td>\n",
       "      <td>2018-11-15T02:18:49Z</td>\n",
       "      <td>2</td>\n",
       "      <td>0</td>\n",
       "    </tr>\n",
       "    <tr>\n",
       "      <th>1</th>\n",
       "      <td>TransactionId_73770</td>\n",
       "      <td>BatchId_15642</td>\n",
       "      <td>AccountId_4841</td>\n",
       "      <td>SubscriptionId_3829</td>\n",
       "      <td>CustomerId_4406</td>\n",
       "      <td>UGX</td>\n",
       "      <td>256</td>\n",
       "      <td>ProviderId_4</td>\n",
       "      <td>ProductId_6</td>\n",
       "      <td>financial_services</td>\n",
       "      <td>ChannelId_2</td>\n",
       "      <td>-20.000</td>\n",
       "      <td>20</td>\n",
       "      <td>2018-11-15T02:19:08Z</td>\n",
       "      <td>2</td>\n",
       "      <td>0</td>\n",
       "    </tr>\n",
       "    <tr>\n",
       "      <th>2</th>\n",
       "      <td>TransactionId_26203</td>\n",
       "      <td>BatchId_53941</td>\n",
       "      <td>AccountId_4229</td>\n",
       "      <td>SubscriptionId_222</td>\n",
       "      <td>CustomerId_4683</td>\n",
       "      <td>UGX</td>\n",
       "      <td>256</td>\n",
       "      <td>ProviderId_6</td>\n",
       "      <td>ProductId_1</td>\n",
       "      <td>airtime</td>\n",
       "      <td>ChannelId_3</td>\n",
       "      <td>500.000</td>\n",
       "      <td>500</td>\n",
       "      <td>2018-11-15T02:44:21Z</td>\n",
       "      <td>2</td>\n",
       "      <td>0</td>\n",
       "    </tr>\n",
       "    <tr>\n",
       "      <th>3</th>\n",
       "      <td>TransactionId_380</td>\n",
       "      <td>BatchId_102363</td>\n",
       "      <td>AccountId_648</td>\n",
       "      <td>SubscriptionId_2185</td>\n",
       "      <td>CustomerId_988</td>\n",
       "      <td>UGX</td>\n",
       "      <td>256</td>\n",
       "      <td>ProviderId_1</td>\n",
       "      <td>ProductId_21</td>\n",
       "      <td>utility_bill</td>\n",
       "      <td>ChannelId_3</td>\n",
       "      <td>20000.000</td>\n",
       "      <td>21800</td>\n",
       "      <td>2018-11-15T03:32:55Z</td>\n",
       "      <td>2</td>\n",
       "      <td>0</td>\n",
       "    </tr>\n",
       "    <tr>\n",
       "      <th>4</th>\n",
       "      <td>TransactionId_28195</td>\n",
       "      <td>BatchId_38780</td>\n",
       "      <td>AccountId_4841</td>\n",
       "      <td>SubscriptionId_3829</td>\n",
       "      <td>CustomerId_988</td>\n",
       "      <td>UGX</td>\n",
       "      <td>256</td>\n",
       "      <td>ProviderId_4</td>\n",
       "      <td>ProductId_6</td>\n",
       "      <td>financial_services</td>\n",
       "      <td>ChannelId_2</td>\n",
       "      <td>-644.000</td>\n",
       "      <td>644</td>\n",
       "      <td>2018-11-15T03:34:21Z</td>\n",
       "      <td>2</td>\n",
       "      <td>0</td>\n",
       "    </tr>\n",
       "  </tbody>\n",
       "</table>\n",
       "</div>"
      ],
      "text/plain": [
       "         TransactionId         BatchId       AccountId       SubscriptionId  \\\n",
       "0  TransactionId_76871   BatchId_36123  AccountId_3957   SubscriptionId_887   \n",
       "1  TransactionId_73770   BatchId_15642  AccountId_4841  SubscriptionId_3829   \n",
       "2  TransactionId_26203   BatchId_53941  AccountId_4229   SubscriptionId_222   \n",
       "3    TransactionId_380  BatchId_102363   AccountId_648  SubscriptionId_2185   \n",
       "4  TransactionId_28195   BatchId_38780  AccountId_4841  SubscriptionId_3829   \n",
       "\n",
       "        CustomerId CurrencyCode  CountryCode    ProviderId     ProductId  \\\n",
       "0  CustomerId_4406          UGX          256  ProviderId_6  ProductId_10   \n",
       "1  CustomerId_4406          UGX          256  ProviderId_4   ProductId_6   \n",
       "2  CustomerId_4683          UGX          256  ProviderId_6   ProductId_1   \n",
       "3   CustomerId_988          UGX          256  ProviderId_1  ProductId_21   \n",
       "4   CustomerId_988          UGX          256  ProviderId_4   ProductId_6   \n",
       "\n",
       "      ProductCategory    ChannelId    Amount  Value  TransactionStartTime  \\\n",
       "0             airtime  ChannelId_3  1000.000   1000  2018-11-15T02:18:49Z   \n",
       "1  financial_services  ChannelId_2   -20.000     20  2018-11-15T02:19:08Z   \n",
       "2             airtime  ChannelId_3   500.000    500  2018-11-15T02:44:21Z   \n",
       "3        utility_bill  ChannelId_3 20000.000  21800  2018-11-15T03:32:55Z   \n",
       "4  financial_services  ChannelId_2  -644.000    644  2018-11-15T03:34:21Z   \n",
       "\n",
       "   PricingStrategy  FraudResult  \n",
       "0                2            0  \n",
       "1                2            0  \n",
       "2                2            0  \n",
       "3                2            0  \n",
       "4                2            0  "
      ]
     },
     "execution_count": 11,
     "metadata": {},
     "output_type": "execute_result"
    }
   ],
   "source": [
    "df.head()"
   ]
  },
  {
   "cell_type": "code",
   "execution_count": 12,
   "id": "ee77fc65-4c27-4930-a121-c2ba0b50e927",
   "metadata": {},
   "outputs": [
    {
     "name": "stdout",
     "output_type": "stream",
     "text": [
      "<class 'pandas.core.frame.DataFrame'>\n",
      "RangeIndex: 95662 entries, 0 to 95661\n",
      "Data columns (total 16 columns):\n",
      " #   Column                Non-Null Count  Dtype  \n",
      "---  ------                --------------  -----  \n",
      " 0   TransactionId         95662 non-null  object \n",
      " 1   BatchId               95662 non-null  object \n",
      " 2   AccountId             95662 non-null  object \n",
      " 3   SubscriptionId        95662 non-null  object \n",
      " 4   CustomerId            95662 non-null  object \n",
      " 5   CurrencyCode          95662 non-null  object \n",
      " 6   CountryCode           95662 non-null  int64  \n",
      " 7   ProviderId            95662 non-null  object \n",
      " 8   ProductId             95662 non-null  object \n",
      " 9   ProductCategory       95662 non-null  object \n",
      " 10  ChannelId             95662 non-null  object \n",
      " 11  Amount                95662 non-null  float64\n",
      " 12  Value                 95662 non-null  int64  \n",
      " 13  TransactionStartTime  95662 non-null  object \n",
      " 14  PricingStrategy       95662 non-null  int64  \n",
      " 15  FraudResult           95662 non-null  int64  \n",
      "dtypes: float64(1), int64(4), object(11)\n",
      "memory usage: 11.7+ MB\n",
      "None\n"
     ]
    }
   ],
   "source": [
    "print(df.info())\n"
   ]
  },
  {
   "cell_type": "markdown",
   "id": "668a8d09-6904-4d87-9b68-24bce4b7fa84",
   "metadata": {},
   "source": [
    "## This dataset provides information about various transactions:\n",
    "   ### Column Breakdown:\n",
    "             TransactionId: Unique identifier for each transaction.\n",
    "             BatchId: Identifier for batches of transactions.\n",
    "             AccountId: The account associated with the transaction.\n",
    "             SubscriptionId: Identifier for subscription services linked to the transaction.\n",
    "             CustomerId: Unique identifier for the customer.\n",
    "             CurrencyCode: Currency used in the transaction (e.g., UGX for Ugandan Shilling).\n",
    "             CountryCode: Numeric country code (e.g., 256).\n",
    "             ProviderId: Identifier for the service provider (e.g., telecom, utility companies).\n",
    "             ProductId: Identifier for the product sold (e.g., airtime, utility bill, financial services).\n",
    "             ProductCategory: The category the product belongs to (e.g., airtime, financial_services, utility_bill).\n",
    "             ChannelId: Identifier for the transaction channel (e.g., mobile, online).\n",
    "             Amount: The amount transacted, usually in float format.\n",
    "             Value: Corresponding value of the transaction (could be the total cost, including fees).\n",
    "             TransactionStartTime: Timestamp of when the transaction started.\n",
    "             PricingStrategy: Identifier for different pricing strategies applied to the transaction.\n",
    "             FraudResult: Indicator for whether the transaction was flagged as fraudulent (0 for non-fraud, 1 for fraud).\n",
    "   #### Considerations:\n",
    "##### The Amount column includes positive and negative values (e.g., -20.000), which likely represent refunds, charges, or reversals.\n",
    "#####  convert the TransactionStartTime to a proper datetime format for time-based analysis.\n",
    "##### The FraudResult can be used for classification tasks, making this a supervised learning dataset if you aim to predict fraudulent transactions.\n",
    "#### Next Steps:\n",
    "   #####  Data Cleaning\n",
    "   #####  Feature Engineering: Create new features, such as time-based features (hour, day, month) or aggregating transaction amounts by CustomerId.\n",
    "   ##### Fraud Detection: You can build a model to classify fraudulent transactions using the FraudResult as the target."
   ]
  },
  {
   "cell_type": "markdown",
   "id": "80a60708-4317-405a-89f9-300cd347a772",
   "metadata": {},
   "source": [
    "## Data Cleaning"
   ]
  },
  {
   "cell_type": "code",
   "execution_count": 15,
   "id": "f5c9819a-ba9a-4f9b-bf1e-5d8f301bee99",
   "metadata": {},
   "outputs": [
    {
     "data": {
      "text/plain": [
       "(95662, 16)"
      ]
     },
     "execution_count": 15,
     "metadata": {},
     "output_type": "execute_result"
    }
   ],
   "source": [
    "df.shape"
   ]
  },
  {
   "cell_type": "code",
   "execution_count": 16,
   "id": "b8d1659d-dce1-4852-b584-364ca3932821",
   "metadata": {},
   "outputs": [
    {
     "data": {
      "text/html": [
       "<div>\n",
       "<style scoped>\n",
       "    .dataframe tbody tr th:only-of-type {\n",
       "        vertical-align: middle;\n",
       "    }\n",
       "\n",
       "    .dataframe tbody tr th {\n",
       "        vertical-align: top;\n",
       "    }\n",
       "\n",
       "    .dataframe thead th {\n",
       "        text-align: right;\n",
       "    }\n",
       "</style>\n",
       "<table border=\"1\" class=\"dataframe\">\n",
       "  <thead>\n",
       "    <tr style=\"text-align: right;\">\n",
       "      <th></th>\n",
       "      <th>count</th>\n",
       "      <th>mean</th>\n",
       "      <th>std</th>\n",
       "      <th>min</th>\n",
       "      <th>25%</th>\n",
       "      <th>50%</th>\n",
       "      <th>75%</th>\n",
       "      <th>max</th>\n",
       "    </tr>\n",
       "  </thead>\n",
       "  <tbody>\n",
       "    <tr>\n",
       "      <th>CountryCode</th>\n",
       "      <td>95662.000</td>\n",
       "      <td>256.000</td>\n",
       "      <td>0.000</td>\n",
       "      <td>256.000</td>\n",
       "      <td>256.000</td>\n",
       "      <td>256.000</td>\n",
       "      <td>256.000</td>\n",
       "      <td>256.000</td>\n",
       "    </tr>\n",
       "    <tr>\n",
       "      <th>Amount</th>\n",
       "      <td>95662.000</td>\n",
       "      <td>6717.846</td>\n",
       "      <td>123306.797</td>\n",
       "      <td>-1000000.000</td>\n",
       "      <td>-50.000</td>\n",
       "      <td>1000.000</td>\n",
       "      <td>2800.000</td>\n",
       "      <td>9880000.000</td>\n",
       "    </tr>\n",
       "    <tr>\n",
       "      <th>Value</th>\n",
       "      <td>95662.000</td>\n",
       "      <td>9900.584</td>\n",
       "      <td>123122.088</td>\n",
       "      <td>2.000</td>\n",
       "      <td>275.000</td>\n",
       "      <td>1000.000</td>\n",
       "      <td>5000.000</td>\n",
       "      <td>9880000.000</td>\n",
       "    </tr>\n",
       "    <tr>\n",
       "      <th>PricingStrategy</th>\n",
       "      <td>95662.000</td>\n",
       "      <td>2.256</td>\n",
       "      <td>0.733</td>\n",
       "      <td>0.000</td>\n",
       "      <td>2.000</td>\n",
       "      <td>2.000</td>\n",
       "      <td>2.000</td>\n",
       "      <td>4.000</td>\n",
       "    </tr>\n",
       "    <tr>\n",
       "      <th>FraudResult</th>\n",
       "      <td>95662.000</td>\n",
       "      <td>0.002</td>\n",
       "      <td>0.045</td>\n",
       "      <td>0.000</td>\n",
       "      <td>0.000</td>\n",
       "      <td>0.000</td>\n",
       "      <td>0.000</td>\n",
       "      <td>1.000</td>\n",
       "    </tr>\n",
       "  </tbody>\n",
       "</table>\n",
       "</div>"
      ],
      "text/plain": [
       "                    count     mean        std          min     25%      50%  \\\n",
       "CountryCode     95662.000  256.000      0.000      256.000 256.000  256.000   \n",
       "Amount          95662.000 6717.846 123306.797 -1000000.000 -50.000 1000.000   \n",
       "Value           95662.000 9900.584 123122.088        2.000 275.000 1000.000   \n",
       "PricingStrategy 95662.000    2.256      0.733        0.000   2.000    2.000   \n",
       "FraudResult     95662.000    0.002      0.045        0.000   0.000    0.000   \n",
       "\n",
       "                     75%         max  \n",
       "CountryCode      256.000     256.000  \n",
       "Amount          2800.000 9880000.000  \n",
       "Value           5000.000 9880000.000  \n",
       "PricingStrategy    2.000       4.000  \n",
       "FraudResult        0.000       1.000  "
      ]
     },
     "execution_count": 16,
     "metadata": {},
     "output_type": "execute_result"
    }
   ],
   "source": [
    "df.describe().T"
   ]
  },
  {
   "cell_type": "code",
   "execution_count": 17,
   "id": "5f8d122e-0f44-41c0-a838-9a4b5c207cfc",
   "metadata": {},
   "outputs": [
    {
     "data": {
      "text/html": [
       "<div>\n",
       "<style scoped>\n",
       "    .dataframe tbody tr th:only-of-type {\n",
       "        vertical-align: middle;\n",
       "    }\n",
       "\n",
       "    .dataframe tbody tr th {\n",
       "        vertical-align: top;\n",
       "    }\n",
       "\n",
       "    .dataframe thead th {\n",
       "        text-align: right;\n",
       "    }\n",
       "</style>\n",
       "<table border=\"1\" class=\"dataframe\">\n",
       "  <thead>\n",
       "    <tr style=\"text-align: right;\">\n",
       "      <th></th>\n",
       "      <th>count</th>\n",
       "      <th>unique</th>\n",
       "      <th>top</th>\n",
       "      <th>freq</th>\n",
       "    </tr>\n",
       "  </thead>\n",
       "  <tbody>\n",
       "    <tr>\n",
       "      <th>TransactionId</th>\n",
       "      <td>95662</td>\n",
       "      <td>95662</td>\n",
       "      <td>TransactionId_76871</td>\n",
       "      <td>1</td>\n",
       "    </tr>\n",
       "    <tr>\n",
       "      <th>BatchId</th>\n",
       "      <td>95662</td>\n",
       "      <td>94809</td>\n",
       "      <td>BatchId_67019</td>\n",
       "      <td>28</td>\n",
       "    </tr>\n",
       "    <tr>\n",
       "      <th>AccountId</th>\n",
       "      <td>95662</td>\n",
       "      <td>3633</td>\n",
       "      <td>AccountId_4841</td>\n",
       "      <td>30893</td>\n",
       "    </tr>\n",
       "    <tr>\n",
       "      <th>SubscriptionId</th>\n",
       "      <td>95662</td>\n",
       "      <td>3627</td>\n",
       "      <td>SubscriptionId_3829</td>\n",
       "      <td>32630</td>\n",
       "    </tr>\n",
       "    <tr>\n",
       "      <th>CustomerId</th>\n",
       "      <td>95662</td>\n",
       "      <td>3742</td>\n",
       "      <td>CustomerId_7343</td>\n",
       "      <td>4091</td>\n",
       "    </tr>\n",
       "    <tr>\n",
       "      <th>CurrencyCode</th>\n",
       "      <td>95662</td>\n",
       "      <td>1</td>\n",
       "      <td>UGX</td>\n",
       "      <td>95662</td>\n",
       "    </tr>\n",
       "    <tr>\n",
       "      <th>ProviderId</th>\n",
       "      <td>95662</td>\n",
       "      <td>6</td>\n",
       "      <td>ProviderId_4</td>\n",
       "      <td>38189</td>\n",
       "    </tr>\n",
       "    <tr>\n",
       "      <th>ProductId</th>\n",
       "      <td>95662</td>\n",
       "      <td>23</td>\n",
       "      <td>ProductId_6</td>\n",
       "      <td>32635</td>\n",
       "    </tr>\n",
       "    <tr>\n",
       "      <th>ProductCategory</th>\n",
       "      <td>95662</td>\n",
       "      <td>9</td>\n",
       "      <td>financial_services</td>\n",
       "      <td>45405</td>\n",
       "    </tr>\n",
       "    <tr>\n",
       "      <th>ChannelId</th>\n",
       "      <td>95662</td>\n",
       "      <td>4</td>\n",
       "      <td>ChannelId_3</td>\n",
       "      <td>56935</td>\n",
       "    </tr>\n",
       "    <tr>\n",
       "      <th>TransactionStartTime</th>\n",
       "      <td>95662</td>\n",
       "      <td>94556</td>\n",
       "      <td>2018-12-24T16:30:13Z</td>\n",
       "      <td>17</td>\n",
       "    </tr>\n",
       "  </tbody>\n",
       "</table>\n",
       "</div>"
      ],
      "text/plain": [
       "                      count unique                   top   freq\n",
       "TransactionId         95662  95662   TransactionId_76871      1\n",
       "BatchId               95662  94809         BatchId_67019     28\n",
       "AccountId             95662   3633        AccountId_4841  30893\n",
       "SubscriptionId        95662   3627   SubscriptionId_3829  32630\n",
       "CustomerId            95662   3742       CustomerId_7343   4091\n",
       "CurrencyCode          95662      1                   UGX  95662\n",
       "ProviderId            95662      6          ProviderId_4  38189\n",
       "ProductId             95662     23           ProductId_6  32635\n",
       "ProductCategory       95662      9    financial_services  45405\n",
       "ChannelId             95662      4           ChannelId_3  56935\n",
       "TransactionStartTime  95662  94556  2018-12-24T16:30:13Z     17"
      ]
     },
     "execution_count": 17,
     "metadata": {},
     "output_type": "execute_result"
    }
   ],
   "source": [
    "df.describe(include = \"object\").T"
   ]
  },
  {
   "cell_type": "markdown",
   "id": "c663d811-81d5-4d25-b7fe-67b3a1ed05c7",
   "metadata": {},
   "source": [
    "#### Summary Statistics:\n",
    "CountryCode:\n",
    "\n",
    "        Count: 95,662 entries.\n",
    "        Mean: 256.\n",
    "        Standard Deviation (std): 0.\n",
    "        Min, 25%, 50%, 75%, Max: All values are 256.\n",
    "        This suggests that all transactions are from the same country (likely Uganda, based on the country code 256).\n",
    "Amount:\n",
    "\n",
    "        Mean: 6,717.85.\n",
    "        Std: 123,306.80, indicating high variability in transaction amounts.\n",
    "        Min: -1,000,000, showing possible large refunds or reversals.\n",
    "        25th percentile: -50, implying some transactions were negative.\n",
    "        Median (50%): 1,000.\n",
    "        75th percentile: 2,800.\n",
    "        Max: 9,880,000, a very high transaction, which may indicate outliers.\n",
    "Value:\n",
    "\n",
    "        Mean: 9,900.58.\n",
    "        Std: 123,122.09, again showing high variability.\n",
    "        Min: 2.\n",
    "        25th percentile: 275.\n",
    "        Median: 1,000.\n",
    "        75th percentile: 5,000.\n",
    "        Max: 9,880,000, similar to the Amount column, indicating they are related or correlated.\n",
    "PricingStrategy:\n",
    "\n",
    "        Mean: 2.26, with a Std of 0.733.\n",
    "        The values range from 0 to 4, indicating different pricing strategies applied to the transactions. The majority fall around 2.\n",
    "FraudResult:\n",
    "\n",
    "        Mean: 0.002, indicating a very low incidence of fraud.\n",
    "        Std: 0.045.\n",
    "        The min and 25th to 75th percentiles are all 0, with the max at 1.\n",
    "        This suggests that fraud is rare, with only a small fraction of transactions marked as fraudulent (fraud rate is ~0.2%).\n",
    "Observations:\n",
    "\n",
    "        The dataset is dominated by non-fraudulent transactions, as seen in the FraudResult column.\n",
    "        The Amount and Value columns have a high standard deviation and extreme values, which may indicate the presence of outliers or highly varied transaction sizes.\n",
    "        CountryCode shows no variation, so it likely doesn't need further analysis unless multi-country data is expected.\n",
    "        There are negative amounts, which should be investigated to understand if they represent refunds, reversals, or errors.\n",
    "Next Steps:\n",
    "    \n",
    "    Outlier Detection: Since Amount and Value have extreme values, investigate outliers further, perhaps using a boxplot or z-scores.\n",
    "    Fraud Analysis: Given the low fraud rate, you could try techniques like SMOTE for class imbalance before building fraud detection models.\n",
    "Correlation: \n",
    "        \n",
    "        Check for correlations between Amount, Value, and FraudResult to see if higher amounts are associated with fraud.  "
   ]
  },
  {
   "cell_type": "markdown",
   "id": "1d059ebd-4012-48d8-92f7-189ca8769a46",
   "metadata": {},
   "source": [
    "##  Missing Values"
   ]
  },
  {
   "cell_type": "code",
   "execution_count": 19,
   "id": "982ec73b-54f2-4225-ae6e-84f617f06090",
   "metadata": {},
   "outputs": [
    {
     "name": "stdout",
     "output_type": "stream",
     "text": [
      "TransactionId           0\n",
      "BatchId                 0\n",
      "AccountId               0\n",
      "SubscriptionId          0\n",
      "CustomerId              0\n",
      "CurrencyCode            0\n",
      "CountryCode             0\n",
      "ProviderId              0\n",
      "ProductId               0\n",
      "ProductCategory         0\n",
      "ChannelId               0\n",
      "Amount                  0\n",
      "Value                   0\n",
      "TransactionStartTime    0\n",
      "PricingStrategy         0\n",
      "FraudResult             0\n",
      "dtype: int64\n"
     ]
    }
   ],
   "source": [
    "# Checking for missing values\n",
    "missing_values = df.isnull().sum()\n",
    "print(missing_values)\n"
   ]
  },
  {
   "cell_type": "markdown",
   "id": "1ad5905b-f7f9-4806-ace2-1a81bc21fc24",
   "metadata": {},
   "source": [
    "## Handling Negative Values in Amount"
   ]
  },
  {
   "cell_type": "code",
   "execution_count": 20,
   "id": "d705f836-356f-465d-9ed1-777862940b4c",
   "metadata": {},
   "outputs": [
    {
     "name": "stdout",
     "output_type": "stream",
     "text": [
      "Number of negative amounts: 38189\n"
     ]
    },
    {
     "data": {
      "text/html": [
       "<div>\n",
       "<style scoped>\n",
       "    .dataframe tbody tr th:only-of-type {\n",
       "        vertical-align: middle;\n",
       "    }\n",
       "\n",
       "    .dataframe tbody tr th {\n",
       "        vertical-align: top;\n",
       "    }\n",
       "\n",
       "    .dataframe thead th {\n",
       "        text-align: right;\n",
       "    }\n",
       "</style>\n",
       "<table border=\"1\" class=\"dataframe\">\n",
       "  <thead>\n",
       "    <tr style=\"text-align: right;\">\n",
       "      <th></th>\n",
       "      <th>TransactionId</th>\n",
       "      <th>BatchId</th>\n",
       "      <th>AccountId</th>\n",
       "      <th>SubscriptionId</th>\n",
       "      <th>CustomerId</th>\n",
       "      <th>CurrencyCode</th>\n",
       "      <th>CountryCode</th>\n",
       "      <th>ProviderId</th>\n",
       "      <th>ProductId</th>\n",
       "      <th>ProductCategory</th>\n",
       "      <th>ChannelId</th>\n",
       "      <th>Amount</th>\n",
       "      <th>Value</th>\n",
       "      <th>TransactionStartTime</th>\n",
       "      <th>PricingStrategy</th>\n",
       "      <th>FraudResult</th>\n",
       "    </tr>\n",
       "  </thead>\n",
       "  <tbody>\n",
       "    <tr>\n",
       "      <th>1</th>\n",
       "      <td>TransactionId_73770</td>\n",
       "      <td>BatchId_15642</td>\n",
       "      <td>AccountId_4841</td>\n",
       "      <td>SubscriptionId_3829</td>\n",
       "      <td>CustomerId_4406</td>\n",
       "      <td>UGX</td>\n",
       "      <td>256</td>\n",
       "      <td>ProviderId_4</td>\n",
       "      <td>ProductId_6</td>\n",
       "      <td>financial_services</td>\n",
       "      <td>ChannelId_2</td>\n",
       "      <td>-20.000</td>\n",
       "      <td>20</td>\n",
       "      <td>2018-11-15T02:19:08Z</td>\n",
       "      <td>2</td>\n",
       "      <td>0</td>\n",
       "    </tr>\n",
       "    <tr>\n",
       "      <th>4</th>\n",
       "      <td>TransactionId_28195</td>\n",
       "      <td>BatchId_38780</td>\n",
       "      <td>AccountId_4841</td>\n",
       "      <td>SubscriptionId_3829</td>\n",
       "      <td>CustomerId_988</td>\n",
       "      <td>UGX</td>\n",
       "      <td>256</td>\n",
       "      <td>ProviderId_4</td>\n",
       "      <td>ProductId_6</td>\n",
       "      <td>financial_services</td>\n",
       "      <td>ChannelId_2</td>\n",
       "      <td>-644.000</td>\n",
       "      <td>644</td>\n",
       "      <td>2018-11-15T03:34:21Z</td>\n",
       "      <td>2</td>\n",
       "      <td>0</td>\n",
       "    </tr>\n",
       "    <tr>\n",
       "      <th>7</th>\n",
       "      <td>TransactionId_100640</td>\n",
       "      <td>BatchId_38561</td>\n",
       "      <td>AccountId_4841</td>\n",
       "      <td>SubscriptionId_3829</td>\n",
       "      <td>CustomerId_2858</td>\n",
       "      <td>UGX</td>\n",
       "      <td>256</td>\n",
       "      <td>ProviderId_4</td>\n",
       "      <td>ProductId_6</td>\n",
       "      <td>financial_services</td>\n",
       "      <td>ChannelId_2</td>\n",
       "      <td>-500.000</td>\n",
       "      <td>500</td>\n",
       "      <td>2018-11-15T03:45:13Z</td>\n",
       "      <td>2</td>\n",
       "      <td>0</td>\n",
       "    </tr>\n",
       "    <tr>\n",
       "      <th>11</th>\n",
       "      <td>TransactionId_33857</td>\n",
       "      <td>BatchId_126394</td>\n",
       "      <td>AccountId_4841</td>\n",
       "      <td>SubscriptionId_3829</td>\n",
       "      <td>CustomerId_3052</td>\n",
       "      <td>UGX</td>\n",
       "      <td>256</td>\n",
       "      <td>ProviderId_4</td>\n",
       "      <td>ProductId_6</td>\n",
       "      <td>financial_services</td>\n",
       "      <td>ChannelId_2</td>\n",
       "      <td>-40.000</td>\n",
       "      <td>40</td>\n",
       "      <td>2018-11-15T04:32:42Z</td>\n",
       "      <td>2</td>\n",
       "      <td>0</td>\n",
       "    </tr>\n",
       "    <tr>\n",
       "      <th>18</th>\n",
       "      <td>TransactionId_64044</td>\n",
       "      <td>BatchId_117733</td>\n",
       "      <td>AccountId_4841</td>\n",
       "      <td>SubscriptionId_3829</td>\n",
       "      <td>CustomerId_3105</td>\n",
       "      <td>UGX</td>\n",
       "      <td>256</td>\n",
       "      <td>ProviderId_4</td>\n",
       "      <td>ProductId_6</td>\n",
       "      <td>financial_services</td>\n",
       "      <td>ChannelId_2</td>\n",
       "      <td>-10.000</td>\n",
       "      <td>10</td>\n",
       "      <td>2018-11-15T04:54:18Z</td>\n",
       "      <td>2</td>\n",
       "      <td>0</td>\n",
       "    </tr>\n",
       "  </tbody>\n",
       "</table>\n",
       "</div>"
      ],
      "text/plain": [
       "           TransactionId         BatchId       AccountId       SubscriptionId  \\\n",
       "1    TransactionId_73770   BatchId_15642  AccountId_4841  SubscriptionId_3829   \n",
       "4    TransactionId_28195   BatchId_38780  AccountId_4841  SubscriptionId_3829   \n",
       "7   TransactionId_100640   BatchId_38561  AccountId_4841  SubscriptionId_3829   \n",
       "11   TransactionId_33857  BatchId_126394  AccountId_4841  SubscriptionId_3829   \n",
       "18   TransactionId_64044  BatchId_117733  AccountId_4841  SubscriptionId_3829   \n",
       "\n",
       "         CustomerId CurrencyCode  CountryCode    ProviderId    ProductId  \\\n",
       "1   CustomerId_4406          UGX          256  ProviderId_4  ProductId_6   \n",
       "4    CustomerId_988          UGX          256  ProviderId_4  ProductId_6   \n",
       "7   CustomerId_2858          UGX          256  ProviderId_4  ProductId_6   \n",
       "11  CustomerId_3052          UGX          256  ProviderId_4  ProductId_6   \n",
       "18  CustomerId_3105          UGX          256  ProviderId_4  ProductId_6   \n",
       "\n",
       "       ProductCategory    ChannelId   Amount  Value  TransactionStartTime  \\\n",
       "1   financial_services  ChannelId_2  -20.000     20  2018-11-15T02:19:08Z   \n",
       "4   financial_services  ChannelId_2 -644.000    644  2018-11-15T03:34:21Z   \n",
       "7   financial_services  ChannelId_2 -500.000    500  2018-11-15T03:45:13Z   \n",
       "11  financial_services  ChannelId_2  -40.000     40  2018-11-15T04:32:42Z   \n",
       "18  financial_services  ChannelId_2  -10.000     10  2018-11-15T04:54:18Z   \n",
       "\n",
       "    PricingStrategy  FraudResult  \n",
       "1                 2            0  \n",
       "4                 2            0  \n",
       "7                 2            0  \n",
       "11                2            0  \n",
       "18                2            0  "
      ]
     },
     "execution_count": 20,
     "metadata": {},
     "output_type": "execute_result"
    }
   ],
   "source": [
    "# Check for negative values in 'Amount'\n",
    "negative_amounts = df[df['Amount'] < 0]\n",
    "print(f\"Number of negative amounts: {len(negative_amounts)}\")\n",
    "\n",
    "# Display some examples of negative amounts\n",
    "negative_amounts.head()\n"
   ]
  },
  {
   "cell_type": "markdown",
   "id": "0142aa63-32b2-413a-993a-ad4d7336c4f8",
   "metadata": {},
   "source": [
    "#### It looks like the dataset contains a significant number of transactions with negative values in the Amount column (38,189 occurrences). \n",
    "These could represent refunds, charges, or errors depending on the business context. Here's a possible approach to handle them:\n",
    "1. Investigating Negative Values\n",
    "    If negative amounts correspond to valid transactions (e.g., refunds, fee reversals), you may want to keep them.\n",
    "    If they are errors or irrelevant, you may decide to either remove or correct them. "
   ]
  },
  {
   "cell_type": "code",
   "execution_count": 21,
   "id": "54760661-6499-4ecb-837f-2b9816508ba2",
   "metadata": {},
   "outputs": [
    {
     "name": "stdout",
     "output_type": "stream",
     "text": [
      "ProductCategory     ChannelId  \n",
      "airtime             ChannelId_2     4495\n",
      "                    ChannelId_5      842\n",
      "data_bundles        ChannelId_5       80\n",
      "financial_services  ChannelId_2    32629\n",
      "movies              ChannelId_5        2\n",
      "tv                  ChannelId_5       37\n",
      "utility_bill        ChannelId_2       17\n",
      "                    ChannelId_5       87\n",
      "Name: Amount, dtype: int64\n"
     ]
    }
   ],
   "source": [
    "# Investigating the distribution of negative amounts by product category and channel\n",
    "negative_distribution = df[df['Amount'] < 0].groupby(['ProductCategory', 'ChannelId'])['Amount'].count()\n",
    "print(negative_distribution)\n"
   ]
  },
  {
   "cell_type": "markdown",
   "id": "15fa2c52-be90-4522-b1de-c79833ef4d35",
   "metadata": {},
   "source": [
    "From the breakdown, it looks like most of the negative values are in the financial_services category under ChannelId_2 (32,629 occurrences), followed by airtime under both ChannelId_2 and ChannelId_5.\n",
    "\n",
    "Insights from Breakdown:\n",
    "\n",
    "    financial_services transactions have the most negative amounts. These could represent fees, refunds, or reversals that are typical for financial services.\n",
    "    airtime also has significant negative transactions, possibly indicating refunds for airtime purchases.\n",
    "    Other categories like utility_bill, data_bundles, and tv have much fewer negative amounts.\n",
    "\n",
    "Approach Options:\n",
    "\n",
    "    1. Keep Negative Transactions for Certain Categories\n",
    "    If negative values in financial_services and airtime make sense in the context of refunds or reversals, let retain them. We can continue analysis with both positive and negative amounts.\n",
    "\n",
    "    2. Remove or Adjust Only in Specific Categories\n",
    "   \n",
    "    For product categories where negative values are unexpected (like movies, tv, or utility_bill), you may decide to remove them or adjust them.\n",
    "\n",
    "For instance, you could keep negative transactions for financial_services and airtime but remove them for the other categories."
   ]
  },
  {
   "cell_type": "code",
   "execution_count": 23,
   "id": "9512774d-889e-44d9-8103-b3511d4306cd",
   "metadata": {},
   "outputs": [],
   "source": [
    "# Remove negative amounts for specific product categories\n",
    "categories_to_remove = ['movies', 'tv', 'utility_bill', 'data_bundles']\n",
    "df_cleaned = df[~((df['Amount'] < 0) & (df['ProductCategory'].isin(categories_to_remove)))]\n"
   ]
  },
  {
   "cell_type": "code",
   "execution_count": 24,
   "id": "18598ce4-0cf3-48ef-8f21-0c627c72d441",
   "metadata": {},
   "outputs": [],
   "source": [
    "# Keep or Adjust the Rest\n",
    "df_cleaned.loc[df_cleaned['ProductCategory'].isin(['financial_services', 'airtime']), 'Amount'] = df_cleaned['Amount'].abs()"
   ]
  },
  {
   "cell_type": "code",
   "execution_count": 25,
   "id": "11431bec-67a8-42fe-88cc-224a0a7a1320",
   "metadata": {},
   "outputs": [
    {
     "data": {
      "text/plain": [
       "0"
      ]
     },
     "execution_count": 25,
     "metadata": {},
     "output_type": "execute_result"
    }
   ],
   "source": [
    "df.duplicated().sum()"
   ]
  },
  {
   "cell_type": "markdown",
   "id": "7119c3da-a976-434e-8d2d-e1e4471bb925",
   "metadata": {},
   "source": [
    "### Visualize Distribution of Transaction Amounts\n",
    "  "
   ]
  },
  {
   "cell_type": "code",
   "execution_count": 32,
   "id": "e7ed8904-1154-4a89-b3c9-68a6d6921779",
   "metadata": {},
   "outputs": [
    {
     "data": {
      "image/png": "[encoded data removed]",
      "text/plain": [
       "<Figure size 1000x600 with 1 Axes>"
      ]
     },
     "metadata": {},
     "output_type": "display_data"
    }
   ],
   "source": [
    " # We'll plot the distribution of the Amount field to visually inspect the outliers.\n",
    "import seaborn as sns\n",
    "import matplotlib.pyplot as plt\n",
    "\n",
    "# Plotting the distribution of Amounts\n",
    "plt.figure(figsize=(10, 6))\n",
    "sns.boxplot(df_cleaned['Amount'])\n",
    "plt.title('Boxplot of Transaction Amounts')\n",
    "plt.show()\n"
   ]
  },
  {
   "cell_type": "markdown",
   "id": "46b165d3-cb66-4061-8160-5eabba6467c7",
   "metadata": {},
   "source": [
    "#### The boxplot  shows transaction amounts, where most of the data is concentrated at lower values, while there are some significant outliers (points far above the box)."
   ]
  },
  {
   "cell_type": "code",
   "execution_count": 33,
   "id": "12348529-c4c0-434f-bfe9-93c9f1fe4085",
   "metadata": {},
   "outputs": [
    {
     "name": "stdout",
     "output_type": "stream",
     "text": [
      "Number of outliers removed: 8859\n"
     ]
    }
   ],
   "source": [
    "# Apply IQR (Interquartile Range) Method\n",
    "# Calculating IQR\n",
    "Q1 = df_cleaned['Amount'].quantile(0.25)\n",
    "Q3 = df_cleaned['Amount'].quantile(0.75)\n",
    "IQR = Q3 - Q1\n",
    "\n",
    "# Defining lower and upper bounds for outliers\n",
    "lower_bound = Q1 - 1.5 * IQR\n",
    "upper_bound = Q3 + 1.5 * IQR\n",
    "\n",
    "# Filtering out outliers\n",
    "df_no_outliers = df_cleaned[(df_cleaned['Amount'] >= lower_bound) & (df_cleaned['Amount'] <= upper_bound)]\n",
    "\n",
    "print(f\"Number of outliers removed: {len(df_cleaned) - len(df_no_outliers)}\")\n"
   ]
  },
  {
   "cell_type": "code",
   "execution_count": 34,
   "id": "d6074e94-6a50-40a1-93d2-fc18b6a9aed0",
   "metadata": {},
   "outputs": [
    {
     "data": {
      "image/png": "[encoded data removed]",
      "text/plain": [
       "<Figure size 1000x600 with 1 Axes>"
      ]
     },
     "metadata": {},
     "output_type": "display_data"
    }
   ],
   "source": [
    " # We'll plot the distribution of the Amount field to visually inspect the outliers.\n",
    "import seaborn as sns\n",
    "import matplotlib.pyplot as plt\n",
    "\n",
    "# Plotting the distribution of Amounts\n",
    "plt.figure(figsize=(10, 6))\n",
    "sns.boxplot(df_cleaned['Amount'])\n",
    "plt.title('Boxplot of Transaction Amounts')\n",
    "plt.show()\n"
   ]
  },
  {
   "cell_type": "code",
   "execution_count": 35,
   "id": "b9913c22-9083-4e35-9a20-f14daa53fa3a",
   "metadata": {},
   "outputs": [],
   "source": [
    "# Apply log transformation (be cautious with negative values)\n",
    "df['log_amount'] = np.log1p(df['Amount'])\n"
   ]
  },
  {
   "cell_type": "code",
   "execution_count": 36,
   "id": "dd200730-af3b-42f7-bfdc-c8dd77de8d9e",
   "metadata": {},
   "outputs": [],
   "source": [
    "# Cap extreme values at a certain threshold\n",
    "cap_value = df['Amount'].quantile(0.99)\n",
    "df['Amount_capped'] = np.where(df['Amount'] > cap_value, cap_value, df['Amount'])\n"
   ]
  },
  {
   "cell_type": "code",
   "execution_count": null,
   "id": "39df6777-b5b1-40e0-b7ba-6b1f1b454aea",
   "metadata": {},
   "outputs": [],
   "source": []
  },
  {
   "cell_type": "code",
   "execution_count": 38,
   "id": "d295f706-890d-4383-b9c5-9f26f0a90e7a",
   "metadata": {},
   "outputs": [],
   "source": [
    "# Example: Adjust IQR thresholds for stricter outlier removal\n",
    "Q1 = df['Amount'].quantile(0.25)\n",
    "Q3 = df['Amount'].quantile(0.75)\n",
    "IQR = Q3 - Q1\n",
    "df_cleaned = df[~((df['Amount'] < (Q1 - 1.5 * IQR)) | (df['Amount'] > (Q3 + 1.5 * IQR)))]\n"
   ]
  },
  {
   "cell_type": "code",
   "execution_count": 39,
   "id": "9eb90753-1d82-4efe-87e3-f8135aa9c617",
   "metadata": {},
   "outputs": [
    {
     "data": {
      "image/png": "[encoded data removed]",
      "text/plain": [
       "<Figure size 1000x600 with 1 Axes>"
      ]
     },
     "metadata": {},
     "output_type": "display_data"
    }
   ],
   "source": [
    " # We'll plot the distribution of the Amount field to visually inspect the outliers.\n",
    "import seaborn as sns\n",
    "import matplotlib.pyplot as plt\n",
    "\n",
    "# Plotting the distribution of Amounts\n",
    "plt.figure(figsize=(10, 6))\n",
    "sns.boxplot(df_cleaned['Amount'])\n",
    "plt.title('Boxplot of Transaction Amounts')\n",
    "plt.show()\n"
   ]
  },
  {
   "cell_type": "markdown",
   "id": "847b39b0-28b5-433f-bcc3-37927a5e6065",
   "metadata": {},
   "source": [
    "#### Data is now much cleaner after the outlier removal, with the boxplot showing a more reasonable distribution. The remaining outliers may represent anomalies or natural variation in your dataset."
   ]
  },
  {
   "cell_type": "code",
   "execution_count": 41,
   "id": "c5165622-ff13-460d-9e88-d55f68c582e3",
   "metadata": {},
   "outputs": [],
   "source": [
    "import numpy as np\n",
    "\n",
    "# Apply log transformation (handling any non-positive values carefully)\n",
    "df['Log_Amount'] = np.log1p(df['Amount'])  # log1p adds 1 to avoid issues with zero values\n"
   ]
  },
  {
   "cell_type": "code",
   "execution_count": 42,
   "id": "723db81d-1c3f-43b2-b54d-c4aae1a0062b",
   "metadata": {},
   "outputs": [],
   "source": [
    "# Cap both upper and lower extremes\n",
    "lower_cap = df['Amount'].quantile(0.01)\n",
    "upper_cap = df['Amount'].quantile(0.99)\n",
    "\n",
    "df['Amount_capped'] = df['Amount'].clip(lower_cap, upper_cap)\n"
   ]
  },
  {
   "cell_type": "code",
   "execution_count": 43,
   "id": "07d1fc5b-0d25-47c6-9150-9475c592ddab",
   "metadata": {},
   "outputs": [
    {
     "data": {
      "image/png": "[encoded data removed]",
      "text/plain": [
       "<Figure size 1000x600 with 1 Axes>"
      ]
     },
     "metadata": {},
     "output_type": "display_data"
    }
   ],
   "source": [
    " # We'll plot the distribution of the Amount field to visually inspect the outliers.\n",
    "import seaborn as sns\n",
    "import matplotlib.pyplot as plt\n",
    "\n",
    "# Plotting the distribution of Amounts\n",
    "plt.figure(figsize=(10, 6))\n",
    "sns.boxplot(df_cleaned['Amount'])\n",
    "plt.title('Boxplot of Transaction Amounts')\n",
    "plt.show()\n"
   ]
  },
  {
   "cell_type": "markdown",
   "id": "8e7cb176-be5c-4010-994d-7c5ff9da091b",
   "metadata": {},
   "source": [
    "## Feature Engineering:"
   ]
  },
  {
   "cell_type": "code",
   "execution_count": 45,
   "id": "b5e9a9e2-e596-4b72-a307-7e721c744c41",
   "metadata": {},
   "outputs": [],
   "source": [
    "# Extract new features from the TransactionStartTime column\n",
    "df['TransactionStartTime'] = pd.to_datetime(df['TransactionStartTime'])\n",
    "df['Transaction_Hour'] = df['TransactionStartTime'].dt.hour\n",
    "df['Transaction_Day'] = df['TransactionStartTime'].dt.day\n",
    "df['Transaction_Weekday'] = df['TransactionStartTime'].dt.weekday\n",
    "df['Transaction_Month'] = df['TransactionStartTime'].dt.month\n"
   ]
  },
  {
   "cell_type": "code",
   "execution_count": 46,
   "id": "88f6ff9c-3aad-472f-8b35-ebde470b2aa1",
   "metadata": {},
   "outputs": [],
   "source": [
    "# Encode categorical columns such as ProductCategory, ChannelId, ProviderId, etc., using methods like one-hot encoding or label encoding.\n",
    "df = pd.get_dummies(df, columns=['ProductCategory', 'ChannelId', 'ProviderId'])\n"
   ]
  },
  {
   "cell_type": "code",
   "execution_count": 47,
   "id": "42356f5c-90af-4c8e-90aa-4237cd63f4ce",
   "metadata": {},
   "outputs": [],
   "source": [
    "# Create ratios between the Amount and Value columns, which may indicate if a transaction is unusually high or low.\n",
    "df['Amount_to_Value_Ratio'] = df['Amount'] / df['Value']\n"
   ]
  },
  {
   "cell_type": "code",
   "execution_count": 48,
   "id": "8752ca4a-cca2-4b9e-a94b-de92acaf57b3",
   "metadata": {},
   "outputs": [
    {
     "data": {
      "text/plain": [
       "0    1.000\n",
       "1   -1.000\n",
       "2    1.000\n",
       "3    0.917\n",
       "4   -1.000\n",
       "Name: Amount_to_Value_Ratio, dtype: float64"
      ]
     },
     "execution_count": 48,
     "metadata": {},
     "output_type": "execute_result"
    }
   ],
   "source": [
    "df['Amount_to_Value_Ratio'].head()"
   ]
  },
  {
   "cell_type": "markdown",
   "id": "7cc48b86-ad92-4d75-a99d-4f6f7ac7e91f",
   "metadata": {},
   "source": [
    "# Correlation Analysis:"
   ]
  },
  {
   "cell_type": "markdown",
   "id": "cae63bda-045a-4a14-a225-a3fed2cebd94",
   "metadata": {},
   "source": [
    "#### Check for correlations between numerical variables (e.g., Amount, Value, PricingStrategy) and the FraudResult column to explore relationships and potential predictive power.\n",
    "\n"
   ]
  },
  {
   "cell_type": "code",
   "execution_count": 51,
   "id": "5ff164a2-1de1-402e-8505-08d1b5e00bc4",
   "metadata": {},
   "outputs": [
    {
     "data": {
      "image/png": "[encoded data removed]",
      "text/plain": [
       "<Figure size 1000x600 with 2 Axes>"
      ]
     },
     "metadata": {},
     "output_type": "display_data"
    }
   ],
   "source": [
    "numeric_df = df.select_dtypes(include=['float64', 'int64'])\n",
    "corr_matrix = numeric_df.corr()\n",
    "\n",
    "import seaborn as sns\n",
    "import matplotlib.pyplot as plt\n",
    "\n",
    "sns.heatmap(corr_matrix, annot=True, cmap='coolwarm')\n",
    "plt.show()\n"
   ]
  },
  {
   "cell_type": "markdown",
   "id": "7c63ae2e-5a4b-4481-bd5e-3e477d4fd067",
   "metadata": {},
   "source": [
    "### Key Observations\n",
    "High Correlations:\n",
    "\n",
    "    Amount and Value: 0.99 (Very strong positive correlation)\n",
    "    log_amount and Amount_capped: 0.8 (Strong positive correlation)\n",
    "    Log_Amount and Amount_capped: 0.8 (Strong positive correlation)\n",
    "Moderate Correlations:\n",
    "\n",
    "    PricingStrategy and Amount: -0.062 (Moderate negative correlation)\n",
    "    PricingStrategy and Value: -0.017 (Moderate negative correlation)\n",
    "    FraudResult and Amount: 0.25 (Moderate positive correlation)\n",
    "    FraudResult and Value: 0.27 (Moderate positive correlation)\n",
    "Negative Correlations:\n",
    "\n",
    "    PricingStrategy and Fraud Result: -0.26 (Moderate negative correlation)"
   ]
  },
  {
   "cell_type": "markdown",
   "id": "842a4eb4-49e9-49ec-8ccc-84b66deff57c",
   "metadata": {},
   "source": [
    "1. Feature Selection:\n",
    "    Based on high correlation between Amount and Value, it’s recommended to drop one of these to avoid redundancy. Since the correlation is nearly 1, there will be little loss of information by excluding one.\n",
    "    For features like PricingStrategy that show moderate correlation with FraudResult, keep them in the model as they might help in fraud detection.\n",
    "2. Handle Multicollinearity:\n",
    "    Strong correlations between Log_Amount, Amount, and Amount_capped suggest multicollinearity. For model building, you should keep only one   version of the transformed Amount variable. If Amount_capped helps reduce outliers, it could be more effective to keep."
   ]
  },
  {
   "cell_type": "code",
   "execution_count": 53,
   "id": "a0fd3993-b168-4e11-8f01-b2b12663fc2b",
   "metadata": {},
   "outputs": [
    {
     "name": "stdout",
     "output_type": "stream",
     "text": [
      "Cleaned DataFrame:\n",
      "         TransactionId         BatchId       AccountId       SubscriptionId  \\\n",
      "0  TransactionId_76871   BatchId_36123  AccountId_3957   SubscriptionId_887   \n",
      "1  TransactionId_73770   BatchId_15642  AccountId_4841  SubscriptionId_3829   \n",
      "2  TransactionId_26203   BatchId_53941  AccountId_4229   SubscriptionId_222   \n",
      "3    TransactionId_380  BatchId_102363   AccountId_648  SubscriptionId_2185   \n",
      "4  TransactionId_28195   BatchId_38780  AccountId_4841  SubscriptionId_3829   \n",
      "\n",
      "        CustomerId CurrencyCode  CountryCode     ProductId  \\\n",
      "0  CustomerId_4406          UGX          256  ProductId_10   \n",
      "1  CustomerId_4406          UGX          256   ProductId_6   \n",
      "2  CustomerId_4683          UGX          256   ProductId_1   \n",
      "3   CustomerId_988          UGX          256  ProductId_21   \n",
      "4   CustomerId_988          UGX          256   ProductId_6   \n",
      "\n",
      "       TransactionStartTime  PricingStrategy  FraudResult  log_amount  \\\n",
      "0 2018-11-15 02:18:49+00:00                2            0       6.909   \n",
      "1 2018-11-15 02:19:08+00:00                2            0         NaN   \n",
      "2 2018-11-15 02:44:21+00:00                2            0       6.217   \n",
      "3 2018-11-15 03:32:55+00:00                2            0       9.904   \n",
      "4 2018-11-15 03:34:21+00:00                2            0         NaN   \n",
      "\n",
      "   Amount_capped  Transaction_Hour  Transaction_Day  Transaction_Weekday  \\\n",
      "0       1000.000                 2               15                    3   \n",
      "1        -20.000                 2               15                    3   \n",
      "2        500.000                 2               15                    3   \n",
      "3      20000.000                 3               15                    3   \n",
      "4       -644.000                 3               15                    3   \n",
      "\n",
      "   Transaction_Month  ProductCategory_airtime  ProductCategory_data_bundles  \\\n",
      "0                 11                     True                         False   \n",
      "1                 11                    False                         False   \n",
      "2                 11                     True                         False   \n",
      "3                 11                    False                         False   \n",
      "4                 11                    False                         False   \n",
      "\n",
      "   ProductCategory_financial_services  ProductCategory_movies  \\\n",
      "0                               False                   False   \n",
      "1                                True                   False   \n",
      "2                               False                   False   \n",
      "3                               False                   False   \n",
      "4                                True                   False   \n",
      "\n",
      "   ProductCategory_other  ProductCategory_ticket  ProductCategory_transport  \\\n",
      "0                  False                   False                      False   \n",
      "1                  False                   False                      False   \n",
      "2                  False                   False                      False   \n",
      "3                  False                   False                      False   \n",
      "4                  False                   False                      False   \n",
      "\n",
      "   ProductCategory_tv  ProductCategory_utility_bill  ChannelId_ChannelId_1  \\\n",
      "0               False                         False                  False   \n",
      "1               False                         False                  False   \n",
      "2               False                         False                  False   \n",
      "3               False                          True                  False   \n",
      "4               False                         False                  False   \n",
      "\n",
      "   ChannelId_ChannelId_2  ChannelId_ChannelId_3  ChannelId_ChannelId_5  \\\n",
      "0                  False                   True                  False   \n",
      "1                   True                  False                  False   \n",
      "2                  False                   True                  False   \n",
      "3                  False                   True                  False   \n",
      "4                   True                  False                  False   \n",
      "\n",
      "   ProviderId_ProviderId_1  ProviderId_ProviderId_2  ProviderId_ProviderId_3  \\\n",
      "0                    False                    False                    False   \n",
      "1                    False                    False                    False   \n",
      "2                    False                    False                    False   \n",
      "3                     True                    False                    False   \n",
      "4                    False                    False                    False   \n",
      "\n",
      "   ProviderId_ProviderId_4  ProviderId_ProviderId_5  ProviderId_ProviderId_6  \\\n",
      "0                    False                    False                     True   \n",
      "1                     True                    False                    False   \n",
      "2                    False                    False                     True   \n",
      "3                    False                    False                    False   \n",
      "4                     True                    False                    False   \n",
      "\n",
      "   Amount_to_Value_Ratio  \n",
      "0                  1.000  \n",
      "1                 -1.000  \n",
      "2                  1.000  \n",
      "3                  0.917  \n",
      "4                 -1.000  \n"
     ]
    }
   ],
   "source": [
    "# Dropping Value due to high correlation with Amount\n",
    "df_cleaned = df.drop(columns=['Value'])\n",
    "\n",
    "# Keeping Amount_capped and dropping other variations\n",
    "df_cleaned = df_cleaned.drop(columns=['Amount', 'Log_Amount'])  # Drop original Amount and Log_Amount\n",
    "\n",
    "# Displaying the cleaned DataFrame\n",
    "print(\"Cleaned DataFrame:\")\n",
    "print(df_cleaned.head())\n"
   ]
  },
  {
   "cell_type": "code",
   "execution_count": null,
   "id": "2232f40e-16db-4e24-a88a-75e5242999fe",
   "metadata": {},
   "outputs": [],
   "source": []
  },
  {
   "cell_type": "code",
   "execution_count": 55,
   "id": "213133d1-3459-4a72-8c7d-16c57b8f0fc4",
   "metadata": {},
   "outputs": [
    {
     "name": "stdout",
     "output_type": "stream",
     "text": [
      "Columns in the cleaned DataFrame:\n",
      "Index(['TransactionId', 'BatchId', 'AccountId', 'SubscriptionId', 'CustomerId',\n",
      "       'CurrencyCode', 'CountryCode', 'ProductId', 'TransactionStartTime',\n",
      "       'PricingStrategy', 'FraudResult', 'log_amount', 'Amount_capped',\n",
      "       'Transaction_Hour', 'Transaction_Day', 'Transaction_Weekday',\n",
      "       'Transaction_Month', 'ProductCategory_airtime',\n",
      "       'ProductCategory_data_bundles', 'ProductCategory_financial_services',\n",
      "       'ProductCategory_movies', 'ProductCategory_other',\n",
      "       'ProductCategory_ticket', 'ProductCategory_transport',\n",
      "       'ProductCategory_tv', 'ProductCategory_utility_bill',\n",
      "       'ChannelId_ChannelId_1', 'ChannelId_ChannelId_2',\n",
      "       'ChannelId_ChannelId_3', 'ChannelId_ChannelId_5',\n",
      "       'ProviderId_ProviderId_1', 'ProviderId_ProviderId_2',\n",
      "       'ProviderId_ProviderId_3', 'ProviderId_ProviderId_4',\n",
      "       'ProviderId_ProviderId_5', 'ProviderId_ProviderId_6',\n",
      "       'Amount_to_Value_Ratio'],\n",
      "      dtype='object')\n"
     ]
    }
   ],
   "source": [
    "# Check the columns in the cleaned DataFrame\n",
    "print(\"Columns in the cleaned DataFrame:\")\n",
    "print(df_cleaned.columns)\n",
    "\n",
    "# If ProductCategory does not exist, find the appropriate column names for encoding\n"
   ]
  },
  {
   "cell_type": "code",
   "execution_count": 56,
   "id": "b8efc0e1-92f9-4d36-afd9-5b627df0ff9f",
   "metadata": {},
   "outputs": [
    {
     "name": "stdout",
     "output_type": "stream",
     "text": [
      "DataFrame after handling missing values and encoding:\n",
      "         TransactionId         BatchId       AccountId       SubscriptionId  \\\n",
      "0  TransactionId_76871   BatchId_36123  AccountId_3957   SubscriptionId_887   \n",
      "1  TransactionId_73770   BatchId_15642  AccountId_4841  SubscriptionId_3829   \n",
      "2  TransactionId_26203   BatchId_53941  AccountId_4229   SubscriptionId_222   \n",
      "3    TransactionId_380  BatchId_102363   AccountId_648  SubscriptionId_2185   \n",
      "4  TransactionId_28195   BatchId_38780  AccountId_4841  SubscriptionId_3829   \n",
      "\n",
      "        CustomerId CurrencyCode  CountryCode     ProductId  \\\n",
      "0  CustomerId_4406          UGX          256  ProductId_10   \n",
      "1  CustomerId_4406          UGX          256   ProductId_6   \n",
      "2  CustomerId_4683          UGX          256   ProductId_1   \n",
      "3   CustomerId_988          UGX          256  ProductId_21   \n",
      "4   CustomerId_988          UGX          256   ProductId_6   \n",
      "\n",
      "       TransactionStartTime  FraudResult  log_amount  Amount_capped  \\\n",
      "0 2018-11-15 02:18:49+00:00            0       6.909       1000.000   \n",
      "1 2018-11-15 02:19:08+00:00            0       7.885        -20.000   \n",
      "2 2018-11-15 02:44:21+00:00            0       6.217        500.000   \n",
      "3 2018-11-15 03:32:55+00:00            0       9.904      20000.000   \n",
      "4 2018-11-15 03:34:21+00:00            0       7.885       -644.000   \n",
      "\n",
      "   Transaction_Hour  Transaction_Day  Transaction_Weekday  Transaction_Month  \\\n",
      "0                 2               15                    3                 11   \n",
      "1                 2               15                    3                 11   \n",
      "2                 2               15                    3                 11   \n",
      "3                 3               15                    3                 11   \n",
      "4                 3               15                    3                 11   \n",
      "\n",
      "   ProductCategory_airtime  ProductCategory_data_bundles  \\\n",
      "0                     True                         False   \n",
      "1                    False                         False   \n",
      "2                     True                         False   \n",
      "3                    False                         False   \n",
      "4                    False                         False   \n",
      "\n",
      "   ProductCategory_financial_services  ProductCategory_movies  \\\n",
      "0                               False                   False   \n",
      "1                                True                   False   \n",
      "2                               False                   False   \n",
      "3                               False                   False   \n",
      "4                                True                   False   \n",
      "\n",
      "   ProductCategory_other  ProductCategory_ticket  ProductCategory_transport  \\\n",
      "0                  False                   False                      False   \n",
      "1                  False                   False                      False   \n",
      "2                  False                   False                      False   \n",
      "3                  False                   False                      False   \n",
      "4                  False                   False                      False   \n",
      "\n",
      "   ProductCategory_tv  ProductCategory_utility_bill  ChannelId_ChannelId_1  \\\n",
      "0               False                         False                  False   \n",
      "1               False                         False                  False   \n",
      "2               False                         False                  False   \n",
      "3               False                          True                  False   \n",
      "4               False                         False                  False   \n",
      "\n",
      "   ChannelId_ChannelId_2  ChannelId_ChannelId_3  ChannelId_ChannelId_5  \\\n",
      "0                  False                   True                  False   \n",
      "1                   True                  False                  False   \n",
      "2                  False                   True                  False   \n",
      "3                  False                   True                  False   \n",
      "4                   True                  False                  False   \n",
      "\n",
      "   ProviderId_ProviderId_1  ProviderId_ProviderId_2  ProviderId_ProviderId_3  \\\n",
      "0                    False                    False                    False   \n",
      "1                    False                    False                    False   \n",
      "2                    False                    False                    False   \n",
      "3                     True                    False                    False   \n",
      "4                    False                    False                    False   \n",
      "\n",
      "   ProviderId_ProviderId_4  ProviderId_ProviderId_5  ProviderId_ProviderId_6  \\\n",
      "0                    False                    False                     True   \n",
      "1                     True                    False                    False   \n",
      "2                    False                    False                     True   \n",
      "3                    False                    False                    False   \n",
      "4                     True                    False                    False   \n",
      "\n",
      "   Amount_to_Value_Ratio  PricingStrategy_1  PricingStrategy_2  \\\n",
      "0                  1.000              False               True   \n",
      "1                 -1.000              False               True   \n",
      "2                  1.000              False               True   \n",
      "3                  0.917              False               True   \n",
      "4                 -1.000              False               True   \n",
      "\n",
      "   PricingStrategy_4  \n",
      "0              False  \n",
      "1              False  \n",
      "2              False  \n",
      "3              False  \n",
      "4              False  \n"
     ]
    }
   ],
   "source": [
    "# Step 2: Encoding Categorical Variables\n",
    "# One-hot encoding for PricingStrategy\n",
    "df_encoded = pd.get_dummies(df_cleaned, columns=['PricingStrategy'], drop_first=True)\n",
    "\n",
    "# Displaying the updated DataFrame\n",
    "print(\"DataFrame after handling missing values and encoding:\")\n",
    "print(df_encoded.head())\n"
   ]
  },
  {
   "cell_type": "code",
   "execution_count": 58,
   "id": "8aede91b-b4a4-49a8-8cf0-a9472f7a394f",
   "metadata": {},
   "outputs": [],
   "source": [
    "# Save the cleaned DataFrame to a CSV file\n",
    "df_encoded.to_csv('../data/cleaned_data.csv', index=False)\n"
   ]
  },
  {
   "cell_type": "markdown",
   "id": "5a40159c-aed6-463f-a55e-d853f4d04aa9",
   "metadata": {},
   "source": [
    "# EDA\n"
   ]
  },
  {
   "cell_type": "code",
   "execution_count": 59,
   "id": "39772d96-d01a-4b6e-adcc-a574d64de841",
   "metadata": {},
   "outputs": [
    {
     "name": "stdout",
     "output_type": "stream",
     "text": [
      "DataFrame Shape: (95662, 39)\n",
      "Data Types:\n",
      " TransactionId                                      object\n",
      "BatchId                                            object\n",
      "AccountId                                          object\n",
      "SubscriptionId                                     object\n",
      "CustomerId                                         object\n",
      "CurrencyCode                                       object\n",
      "CountryCode                                         int64\n",
      "ProductId                                          object\n",
      "TransactionStartTime                  datetime64[ns, UTC]\n",
      "FraudResult                                         int64\n",
      "log_amount                                        float64\n",
      "Amount_capped                                     float64\n",
      "Transaction_Hour                                    int32\n",
      "Transaction_Day                                     int32\n",
      "Transaction_Weekday                                 int32\n",
      "Transaction_Month                                   int32\n",
      "ProductCategory_airtime                              bool\n",
      "ProductCategory_data_bundles                         bool\n",
      "ProductCategory_financial_services                   bool\n",
      "ProductCategory_movies                               bool\n",
      "ProductCategory_other                                bool\n",
      "ProductCategory_ticket                               bool\n",
      "ProductCategory_transport                            bool\n",
      "ProductCategory_tv                                   bool\n",
      "ProductCategory_utility_bill                         bool\n",
      "ChannelId_ChannelId_1                                bool\n",
      "ChannelId_ChannelId_2                                bool\n",
      "ChannelId_ChannelId_3                                bool\n",
      "ChannelId_ChannelId_5                                bool\n",
      "ProviderId_ProviderId_1                              bool\n",
      "ProviderId_ProviderId_2                              bool\n",
      "ProviderId_ProviderId_3                              bool\n",
      "ProviderId_ProviderId_4                              bool\n",
      "ProviderId_ProviderId_5                              bool\n",
      "ProviderId_ProviderId_6                              bool\n",
      "Amount_to_Value_Ratio                             float64\n",
      "PricingStrategy_1                                    bool\n",
      "PricingStrategy_2                                    bool\n",
      "PricingStrategy_4                                    bool\n",
      "dtype: object\n"
     ]
    }
   ],
   "source": [
    "# Overview of the Data\n",
    "print(\"DataFrame Shape:\", df_encoded.shape)\n",
    "print(\"Data Types:\\n\", df_encoded.dtypes)\n"
   ]
  },
  {
   "cell_type": "code",
   "execution_count": 60,
   "id": "3b608898-fba4-41e3-8611-169d11be0540",
   "metadata": {},
   "outputs": [
    {
     "name": "stdout",
     "output_type": "stream",
     "text": [
      "Summary Statistics:\n",
      "        CountryCode  FraudResult  log_amount  Amount_capped  Transaction_Hour  \\\n",
      "count    95662.000    95662.000   95662.000      95662.000         95662.000   \n",
      "mean       256.000        0.002       7.885       2537.701            12.448   \n",
      "std          0.000        0.045       1.021      12161.968             4.847   \n",
      "min        256.000        0.000       2.398     -30000.000             0.000   \n",
      "25%        256.000        0.000       6.909        -50.000             8.000   \n",
      "50%        256.000        0.000       7.885       1000.000            13.000   \n",
      "75%        256.000        0.000       7.938       2800.000            17.000   \n",
      "max        256.000        1.000      16.106      80000.000            23.000   \n",
      "\n",
      "       Transaction_Day  Transaction_Weekday  Transaction_Month  \\\n",
      "count        95662.000            95662.000          95662.000   \n",
      "mean            15.903                3.012              6.566   \n",
      "std              8.963                1.864              5.224   \n",
      "min              1.000                0.000              1.000   \n",
      "25%              8.000                1.000              1.000   \n",
      "50%             16.000                3.000             11.000   \n",
      "75%             24.000                4.000             12.000   \n",
      "max             31.000                6.000             12.000   \n",
      "\n",
      "       Amount_to_Value_Ratio  \n",
      "count              95662.000  \n",
      "mean                   0.199  \n",
      "std                    0.977  \n",
      "min                   -1.000  \n",
      "25%                   -1.000  \n",
      "50%                    1.000  \n",
      "75%                    1.000  \n",
      "max                    1.000  \n"
     ]
    }
   ],
   "source": [
    "# Summary Statistics\n",
    "summary_statistics = df_encoded.describe()\n",
    "print(\"Summary Statistics:\\n\", summary_statistics)\n"
   ]
  },
  {
   "cell_type": "code",
   "execution_count": 61,
   "id": "f9f7f7cc-814a-47f1-b005-9c3f32d1ebbe",
   "metadata": {},
   "outputs": [
    {
     "data": {
      "image/png": "[encoded data removed]",
      "text/plain": [
       "<Figure size 1200x1000 with 5 Axes>"
      ]
     },
     "metadata": {},
     "output_type": "display_data"
    }
   ],
   "source": [
    "import matplotlib.pyplot as plt\n",
    "import seaborn as sns\n",
    "\n",
    "# Visualizing the distribution of numerical features\n",
    "numerical_features = df_encoded.select_dtypes(include=['float64', 'int64']).columns\n",
    "\n",
    "plt.figure(figsize=(12, 10))\n",
    "for i, feature in enumerate(numerical_features, 1):\n",
    "    plt.subplot(3, 3, i)  # Adjust the number of rows and columns based on features\n",
    "    sns.histplot(df_encoded[feature], bins=30, kde=True)\n",
    "    plt.title(f'Distribution of {feature}')\n",
    "plt.tight_layout()\n",
    "plt.show()\n"
   ]
  },
  {
   "cell_type": "code",
   "execution_count": 63,
   "id": "1cd132a6-6f99-41b9-8d31-578a3ad0960f",
   "metadata": {},
   "outputs": [
    {
     "ename": "KeyboardInterrupt",
     "evalue": "",
     "output_type": "error",
     "traceback": [
      "\u001b[1;31m---------------------------------------------------------------------------\u001b[0m",
      "\u001b[1;31mKeyboardInterrupt\u001b[0m                         Traceback (most recent call last)",
      "Cell \u001b[1;32mIn[63], line 19\u001b[0m\n\u001b[0;32m     17\u001b[0m     plt\u001b[38;5;241m.\u001b[39mxticks(rotation\u001b[38;5;241m=\u001b[39m\u001b[38;5;241m45\u001b[39m)\n\u001b[0;32m     18\u001b[0m plt\u001b[38;5;241m.\u001b[39mtight_layout()\n\u001b[1;32m---> 19\u001b[0m plt\u001b[38;5;241m.\u001b[39mshow()\n",
      "File \u001b[1;32m~\\anaconda3\\Lib\\site-packages\\matplotlib\\pyplot.py:527\u001b[0m, in \u001b[0;36mshow\u001b[1;34m(*args, **kwargs)\u001b[0m\n\u001b[0;32m    483\u001b[0m \u001b[38;5;250m\u001b[39m\u001b[38;5;124;03m\"\"\"\u001b[39;00m\n\u001b[0;32m    484\u001b[0m \u001b[38;5;124;03mDisplay all open figures.\u001b[39;00m\n\u001b[0;32m    485\u001b[0m \n\u001b[1;32m   (...)\u001b[0m\n\u001b[0;32m    524\u001b[0m \u001b[38;5;124;03mexplicitly there.\u001b[39;00m\n\u001b[0;32m    525\u001b[0m \u001b[38;5;124;03m\"\"\"\u001b[39;00m\n\u001b[0;32m    526\u001b[0m _warn_if_gui_out_of_main_thread()\n\u001b[1;32m--> 527\u001b[0m \u001b[38;5;28;01mreturn\u001b[39;00m _get_backend_mod()\u001b[38;5;241m.\u001b[39mshow(\u001b[38;5;241m*\u001b[39margs, \u001b[38;5;241m*\u001b[39m\u001b[38;5;241m*\u001b[39mkwargs)\n",
      "File \u001b[1;32m~\\anaconda3\\Lib\\site-packages\\matplotlib_inline\\backend_inline.py:90\u001b[0m, in \u001b[0;36mshow\u001b[1;34m(close, block)\u001b[0m\n\u001b[0;32m     88\u001b[0m \u001b[38;5;28;01mtry\u001b[39;00m:\n\u001b[0;32m     89\u001b[0m     \u001b[38;5;28;01mfor\u001b[39;00m figure_manager \u001b[38;5;129;01min\u001b[39;00m Gcf\u001b[38;5;241m.\u001b[39mget_all_fig_managers():\n\u001b[1;32m---> 90\u001b[0m         display(\n\u001b[0;32m     91\u001b[0m             figure_manager\u001b[38;5;241m.\u001b[39mcanvas\u001b[38;5;241m.\u001b[39mfigure,\n\u001b[0;32m     92\u001b[0m             metadata\u001b[38;5;241m=\u001b[39m_fetch_figure_metadata(figure_manager\u001b[38;5;241m.\u001b[39mcanvas\u001b[38;5;241m.\u001b[39mfigure)\n\u001b[0;32m     93\u001b[0m         )\n\u001b[0;32m     94\u001b[0m \u001b[38;5;28;01mfinally\u001b[39;00m:\n\u001b[0;32m     95\u001b[0m     show\u001b[38;5;241m.\u001b[39m_to_draw \u001b[38;5;241m=\u001b[39m []\n",
      "File \u001b[1;32m~\\anaconda3\\Lib\\site-packages\\IPython\\core\\display_functions.py:298\u001b[0m, in \u001b[0;36mdisplay\u001b[1;34m(include, exclude, metadata, transient, display_id, raw, clear, *objs, **kwargs)\u001b[0m\n\u001b[0;32m    296\u001b[0m     publish_display_data(data\u001b[38;5;241m=\u001b[39mobj, metadata\u001b[38;5;241m=\u001b[39mmetadata, \u001b[38;5;241m*\u001b[39m\u001b[38;5;241m*\u001b[39mkwargs)\n\u001b[0;32m    297\u001b[0m \u001b[38;5;28;01melse\u001b[39;00m:\n\u001b[1;32m--> 298\u001b[0m     format_dict, md_dict \u001b[38;5;241m=\u001b[39m \u001b[38;5;28mformat\u001b[39m(obj, include\u001b[38;5;241m=\u001b[39minclude, exclude\u001b[38;5;241m=\u001b[39mexclude)\n\u001b[0;32m    299\u001b[0m     \u001b[38;5;28;01mif\u001b[39;00m \u001b[38;5;129;01mnot\u001b[39;00m format_dict:\n\u001b[0;32m    300\u001b[0m         \u001b[38;5;66;03m# nothing to display (e.g. _ipython_display_ took over)\u001b[39;00m\n\u001b[0;32m    301\u001b[0m         \u001b[38;5;28;01mcontinue\u001b[39;00m\n",
      "File \u001b[1;32m~\\anaconda3\\Lib\\site-packages\\IPython\\core\\formatters.py:182\u001b[0m, in \u001b[0;36mDisplayFormatter.format\u001b[1;34m(self, obj, include, exclude)\u001b[0m\n\u001b[0;32m    180\u001b[0m md \u001b[38;5;241m=\u001b[39m \u001b[38;5;28;01mNone\u001b[39;00m\n\u001b[0;32m    181\u001b[0m \u001b[38;5;28;01mtry\u001b[39;00m:\n\u001b[1;32m--> 182\u001b[0m     data \u001b[38;5;241m=\u001b[39m formatter(obj)\n\u001b[0;32m    183\u001b[0m \u001b[38;5;28;01mexcept\u001b[39;00m:\n\u001b[0;32m    184\u001b[0m     \u001b[38;5;66;03m# FIXME: log the exception\u001b[39;00m\n\u001b[0;32m    185\u001b[0m     \u001b[38;5;28;01mraise\u001b[39;00m\n",
      "File \u001b[1;32m~\\anaconda3\\Lib\\site-packages\\decorator.py:232\u001b[0m, in \u001b[0;36mdecorate.<locals>.fun\u001b[1;34m(*args, **kw)\u001b[0m\n\u001b[0;32m    230\u001b[0m \u001b[38;5;28;01mif\u001b[39;00m \u001b[38;5;129;01mnot\u001b[39;00m kwsyntax:\n\u001b[0;32m    231\u001b[0m     args, kw \u001b[38;5;241m=\u001b[39m fix(args, kw, sig)\n\u001b[1;32m--> 232\u001b[0m \u001b[38;5;28;01mreturn\u001b[39;00m caller(func, \u001b[38;5;241m*\u001b[39m(extras \u001b[38;5;241m+\u001b[39m args), \u001b[38;5;241m*\u001b[39m\u001b[38;5;241m*\u001b[39mkw)\n",
      "File \u001b[1;32m~\\anaconda3\\Lib\\site-packages\\IPython\\core\\formatters.py:226\u001b[0m, in \u001b[0;36mcatch_format_error\u001b[1;34m(method, self, *args, **kwargs)\u001b[0m\n\u001b[0;32m    224\u001b[0m \u001b[38;5;250m\u001b[39m\u001b[38;5;124;03m\"\"\"show traceback on failed format call\"\"\"\u001b[39;00m\n\u001b[0;32m    225\u001b[0m \u001b[38;5;28;01mtry\u001b[39;00m:\n\u001b[1;32m--> 226\u001b[0m     r \u001b[38;5;241m=\u001b[39m method(\u001b[38;5;28mself\u001b[39m, \u001b[38;5;241m*\u001b[39margs, \u001b[38;5;241m*\u001b[39m\u001b[38;5;241m*\u001b[39mkwargs)\n\u001b[0;32m    227\u001b[0m \u001b[38;5;28;01mexcept\u001b[39;00m \u001b[38;5;167;01mNotImplementedError\u001b[39;00m:\n\u001b[0;32m    228\u001b[0m     \u001b[38;5;66;03m# don't warn on NotImplementedErrors\u001b[39;00m\n\u001b[0;32m    229\u001b[0m     \u001b[38;5;28;01mreturn\u001b[39;00m \u001b[38;5;28mself\u001b[39m\u001b[38;5;241m.\u001b[39m_check_return(\u001b[38;5;28;01mNone\u001b[39;00m, args[\u001b[38;5;241m0\u001b[39m])\n",
      "File \u001b[1;32m~\\anaconda3\\Lib\\site-packages\\IPython\\core\\formatters.py:343\u001b[0m, in \u001b[0;36mBaseFormatter.__call__\u001b[1;34m(self, obj)\u001b[0m\n\u001b[0;32m    341\u001b[0m     \u001b[38;5;28;01mpass\u001b[39;00m\n\u001b[0;32m    342\u001b[0m \u001b[38;5;28;01melse\u001b[39;00m:\n\u001b[1;32m--> 343\u001b[0m     \u001b[38;5;28;01mreturn\u001b[39;00m printer(obj)\n\u001b[0;32m    344\u001b[0m \u001b[38;5;66;03m# Finally look for special method names\u001b[39;00m\n\u001b[0;32m    345\u001b[0m method \u001b[38;5;241m=\u001b[39m get_real_method(obj, \u001b[38;5;28mself\u001b[39m\u001b[38;5;241m.\u001b[39mprint_method)\n",
      "File \u001b[1;32m~\\anaconda3\\Lib\\site-packages\\IPython\\core\\pylabtools.py:170\u001b[0m, in \u001b[0;36mprint_figure\u001b[1;34m(fig, fmt, bbox_inches, base64, **kwargs)\u001b[0m\n\u001b[0;32m    167\u001b[0m     \u001b[38;5;28;01mfrom\u001b[39;00m \u001b[38;5;21;01mmatplotlib\u001b[39;00m\u001b[38;5;21;01m.\u001b[39;00m\u001b[38;5;21;01mbackend_bases\u001b[39;00m \u001b[38;5;28;01mimport\u001b[39;00m FigureCanvasBase\n\u001b[0;32m    168\u001b[0m     FigureCanvasBase(fig)\n\u001b[1;32m--> 170\u001b[0m fig\u001b[38;5;241m.\u001b[39mcanvas\u001b[38;5;241m.\u001b[39mprint_figure(bytes_io, \u001b[38;5;241m*\u001b[39m\u001b[38;5;241m*\u001b[39mkw)\n\u001b[0;32m    171\u001b[0m data \u001b[38;5;241m=\u001b[39m bytes_io\u001b[38;5;241m.\u001b[39mgetvalue()\n\u001b[0;32m    172\u001b[0m \u001b[38;5;28;01mif\u001b[39;00m fmt \u001b[38;5;241m==\u001b[39m \u001b[38;5;124m'\u001b[39m\u001b[38;5;124msvg\u001b[39m\u001b[38;5;124m'\u001b[39m:\n",
      "File \u001b[1;32m~\\anaconda3\\Lib\\site-packages\\matplotlib\\backend_bases.py:2164\u001b[0m, in \u001b[0;36mFigureCanvasBase.print_figure\u001b[1;34m(self, filename, dpi, facecolor, edgecolor, orientation, format, bbox_inches, pad_inches, bbox_extra_artists, backend, **kwargs)\u001b[0m\n\u001b[0;32m   2161\u001b[0m     \u001b[38;5;66;03m# we do this instead of `self.figure.draw_without_rendering`\u001b[39;00m\n\u001b[0;32m   2162\u001b[0m     \u001b[38;5;66;03m# so that we can inject the orientation\u001b[39;00m\n\u001b[0;32m   2163\u001b[0m     \u001b[38;5;28;01mwith\u001b[39;00m \u001b[38;5;28mgetattr\u001b[39m(renderer, \u001b[38;5;124m\"\u001b[39m\u001b[38;5;124m_draw_disabled\u001b[39m\u001b[38;5;124m\"\u001b[39m, nullcontext)():\n\u001b[1;32m-> 2164\u001b[0m         \u001b[38;5;28mself\u001b[39m\u001b[38;5;241m.\u001b[39mfigure\u001b[38;5;241m.\u001b[39mdraw(renderer)\n\u001b[0;32m   2165\u001b[0m \u001b[38;5;28;01mif\u001b[39;00m bbox_inches:\n\u001b[0;32m   2166\u001b[0m     \u001b[38;5;28;01mif\u001b[39;00m bbox_inches \u001b[38;5;241m==\u001b[39m \u001b[38;5;124m\"\u001b[39m\u001b[38;5;124mtight\u001b[39m\u001b[38;5;124m\"\u001b[39m:\n",
      "File \u001b[1;32m~\\anaconda3\\Lib\\site-packages\\matplotlib\\artist.py:95\u001b[0m, in \u001b[0;36m_finalize_rasterization.<locals>.draw_wrapper\u001b[1;34m(artist, renderer, *args, **kwargs)\u001b[0m\n\u001b[0;32m     93\u001b[0m \u001b[38;5;129m@wraps\u001b[39m(draw)\n\u001b[0;32m     94\u001b[0m \u001b[38;5;28;01mdef\u001b[39;00m \u001b[38;5;21mdraw_wrapper\u001b[39m(artist, renderer, \u001b[38;5;241m*\u001b[39margs, \u001b[38;5;241m*\u001b[39m\u001b[38;5;241m*\u001b[39mkwargs):\n\u001b[1;32m---> 95\u001b[0m     result \u001b[38;5;241m=\u001b[39m draw(artist, renderer, \u001b[38;5;241m*\u001b[39margs, \u001b[38;5;241m*\u001b[39m\u001b[38;5;241m*\u001b[39mkwargs)\n\u001b[0;32m     96\u001b[0m     \u001b[38;5;28;01mif\u001b[39;00m renderer\u001b[38;5;241m.\u001b[39m_rasterizing:\n\u001b[0;32m     97\u001b[0m         renderer\u001b[38;5;241m.\u001b[39mstop_rasterizing()\n",
      "File \u001b[1;32m~\\anaconda3\\Lib\\site-packages\\matplotlib\\artist.py:72\u001b[0m, in \u001b[0;36mallow_rasterization.<locals>.draw_wrapper\u001b[1;34m(artist, renderer)\u001b[0m\n\u001b[0;32m     69\u001b[0m     \u001b[38;5;28;01mif\u001b[39;00m artist\u001b[38;5;241m.\u001b[39mget_agg_filter() \u001b[38;5;129;01mis\u001b[39;00m \u001b[38;5;129;01mnot\u001b[39;00m \u001b[38;5;28;01mNone\u001b[39;00m:\n\u001b[0;32m     70\u001b[0m         renderer\u001b[38;5;241m.\u001b[39mstart_filter()\n\u001b[1;32m---> 72\u001b[0m     \u001b[38;5;28;01mreturn\u001b[39;00m draw(artist, renderer)\n\u001b[0;32m     73\u001b[0m \u001b[38;5;28;01mfinally\u001b[39;00m:\n\u001b[0;32m     74\u001b[0m     \u001b[38;5;28;01mif\u001b[39;00m artist\u001b[38;5;241m.\u001b[39mget_agg_filter() \u001b[38;5;129;01mis\u001b[39;00m \u001b[38;5;129;01mnot\u001b[39;00m \u001b[38;5;28;01mNone\u001b[39;00m:\n",
      "File \u001b[1;32m~\\anaconda3\\Lib\\site-packages\\matplotlib\\figure.py:3154\u001b[0m, in \u001b[0;36mFigure.draw\u001b[1;34m(self, renderer)\u001b[0m\n\u001b[0;32m   3151\u001b[0m         \u001b[38;5;66;03m# ValueError can occur when resizing a window.\u001b[39;00m\n\u001b[0;32m   3153\u001b[0m \u001b[38;5;28mself\u001b[39m\u001b[38;5;241m.\u001b[39mpatch\u001b[38;5;241m.\u001b[39mdraw(renderer)\n\u001b[1;32m-> 3154\u001b[0m mimage\u001b[38;5;241m.\u001b[39m_draw_list_compositing_images(\n\u001b[0;32m   3155\u001b[0m     renderer, \u001b[38;5;28mself\u001b[39m, artists, \u001b[38;5;28mself\u001b[39m\u001b[38;5;241m.\u001b[39msuppressComposite)\n\u001b[0;32m   3157\u001b[0m \u001b[38;5;28;01mfor\u001b[39;00m sfig \u001b[38;5;129;01min\u001b[39;00m \u001b[38;5;28mself\u001b[39m\u001b[38;5;241m.\u001b[39msubfigs:\n\u001b[0;32m   3158\u001b[0m     sfig\u001b[38;5;241m.\u001b[39mdraw(renderer)\n",
      "File \u001b[1;32m~\\anaconda3\\Lib\\site-packages\\matplotlib\\image.py:132\u001b[0m, in \u001b[0;36m_draw_list_compositing_images\u001b[1;34m(renderer, parent, artists, suppress_composite)\u001b[0m\n\u001b[0;32m    130\u001b[0m \u001b[38;5;28;01mif\u001b[39;00m not_composite \u001b[38;5;129;01mor\u001b[39;00m \u001b[38;5;129;01mnot\u001b[39;00m has_images:\n\u001b[0;32m    131\u001b[0m     \u001b[38;5;28;01mfor\u001b[39;00m a \u001b[38;5;129;01min\u001b[39;00m artists:\n\u001b[1;32m--> 132\u001b[0m         a\u001b[38;5;241m.\u001b[39mdraw(renderer)\n\u001b[0;32m    133\u001b[0m \u001b[38;5;28;01melse\u001b[39;00m:\n\u001b[0;32m    134\u001b[0m     \u001b[38;5;66;03m# Composite any adjacent images together\u001b[39;00m\n\u001b[0;32m    135\u001b[0m     image_group \u001b[38;5;241m=\u001b[39m []\n",
      "File \u001b[1;32m~\\anaconda3\\Lib\\site-packages\\matplotlib\\artist.py:72\u001b[0m, in \u001b[0;36mallow_rasterization.<locals>.draw_wrapper\u001b[1;34m(artist, renderer)\u001b[0m\n\u001b[0;32m     69\u001b[0m     \u001b[38;5;28;01mif\u001b[39;00m artist\u001b[38;5;241m.\u001b[39mget_agg_filter() \u001b[38;5;129;01mis\u001b[39;00m \u001b[38;5;129;01mnot\u001b[39;00m \u001b[38;5;28;01mNone\u001b[39;00m:\n\u001b[0;32m     70\u001b[0m         renderer\u001b[38;5;241m.\u001b[39mstart_filter()\n\u001b[1;32m---> 72\u001b[0m     \u001b[38;5;28;01mreturn\u001b[39;00m draw(artist, renderer)\n\u001b[0;32m     73\u001b[0m \u001b[38;5;28;01mfinally\u001b[39;00m:\n\u001b[0;32m     74\u001b[0m     \u001b[38;5;28;01mif\u001b[39;00m artist\u001b[38;5;241m.\u001b[39mget_agg_filter() \u001b[38;5;129;01mis\u001b[39;00m \u001b[38;5;129;01mnot\u001b[39;00m \u001b[38;5;28;01mNone\u001b[39;00m:\n",
      "File \u001b[1;32m~\\anaconda3\\Lib\\site-packages\\matplotlib\\axes\\_base.py:3070\u001b[0m, in \u001b[0;36m_AxesBase.draw\u001b[1;34m(self, renderer)\u001b[0m\n\u001b[0;32m   3067\u001b[0m \u001b[38;5;28;01mif\u001b[39;00m artists_rasterized:\n\u001b[0;32m   3068\u001b[0m     _draw_rasterized(\u001b[38;5;28mself\u001b[39m\u001b[38;5;241m.\u001b[39mfigure, artists_rasterized, renderer)\n\u001b[1;32m-> 3070\u001b[0m mimage\u001b[38;5;241m.\u001b[39m_draw_list_compositing_images(\n\u001b[0;32m   3071\u001b[0m     renderer, \u001b[38;5;28mself\u001b[39m, artists, \u001b[38;5;28mself\u001b[39m\u001b[38;5;241m.\u001b[39mfigure\u001b[38;5;241m.\u001b[39msuppressComposite)\n\u001b[0;32m   3073\u001b[0m renderer\u001b[38;5;241m.\u001b[39mclose_group(\u001b[38;5;124m'\u001b[39m\u001b[38;5;124maxes\u001b[39m\u001b[38;5;124m'\u001b[39m)\n\u001b[0;32m   3074\u001b[0m \u001b[38;5;28mself\u001b[39m\u001b[38;5;241m.\u001b[39mstale \u001b[38;5;241m=\u001b[39m \u001b[38;5;28;01mFalse\u001b[39;00m\n",
      "File \u001b[1;32m~\\anaconda3\\Lib\\site-packages\\matplotlib\\image.py:132\u001b[0m, in \u001b[0;36m_draw_list_compositing_images\u001b[1;34m(renderer, parent, artists, suppress_composite)\u001b[0m\n\u001b[0;32m    130\u001b[0m \u001b[38;5;28;01mif\u001b[39;00m not_composite \u001b[38;5;129;01mor\u001b[39;00m \u001b[38;5;129;01mnot\u001b[39;00m has_images:\n\u001b[0;32m    131\u001b[0m     \u001b[38;5;28;01mfor\u001b[39;00m a \u001b[38;5;129;01min\u001b[39;00m artists:\n\u001b[1;32m--> 132\u001b[0m         a\u001b[38;5;241m.\u001b[39mdraw(renderer)\n\u001b[0;32m    133\u001b[0m \u001b[38;5;28;01melse\u001b[39;00m:\n\u001b[0;32m    134\u001b[0m     \u001b[38;5;66;03m# Composite any adjacent images together\u001b[39;00m\n\u001b[0;32m    135\u001b[0m     image_group \u001b[38;5;241m=\u001b[39m []\n",
      "File \u001b[1;32m~\\anaconda3\\Lib\\site-packages\\matplotlib\\artist.py:72\u001b[0m, in \u001b[0;36mallow_rasterization.<locals>.draw_wrapper\u001b[1;34m(artist, renderer)\u001b[0m\n\u001b[0;32m     69\u001b[0m     \u001b[38;5;28;01mif\u001b[39;00m artist\u001b[38;5;241m.\u001b[39mget_agg_filter() \u001b[38;5;129;01mis\u001b[39;00m \u001b[38;5;129;01mnot\u001b[39;00m \u001b[38;5;28;01mNone\u001b[39;00m:\n\u001b[0;32m     70\u001b[0m         renderer\u001b[38;5;241m.\u001b[39mstart_filter()\n\u001b[1;32m---> 72\u001b[0m     \u001b[38;5;28;01mreturn\u001b[39;00m draw(artist, renderer)\n\u001b[0;32m     73\u001b[0m \u001b[38;5;28;01mfinally\u001b[39;00m:\n\u001b[0;32m     74\u001b[0m     \u001b[38;5;28;01mif\u001b[39;00m artist\u001b[38;5;241m.\u001b[39mget_agg_filter() \u001b[38;5;129;01mis\u001b[39;00m \u001b[38;5;129;01mnot\u001b[39;00m \u001b[38;5;28;01mNone\u001b[39;00m:\n",
      "File \u001b[1;32m~\\anaconda3\\Lib\\site-packages\\matplotlib\\axis.py:1388\u001b[0m, in \u001b[0;36mAxis.draw\u001b[1;34m(self, renderer, *args, **kwargs)\u001b[0m\n\u001b[0;32m   1385\u001b[0m renderer\u001b[38;5;241m.\u001b[39mopen_group(\u001b[38;5;18m__name__\u001b[39m, gid\u001b[38;5;241m=\u001b[39m\u001b[38;5;28mself\u001b[39m\u001b[38;5;241m.\u001b[39mget_gid())\n\u001b[0;32m   1387\u001b[0m ticks_to_draw \u001b[38;5;241m=\u001b[39m \u001b[38;5;28mself\u001b[39m\u001b[38;5;241m.\u001b[39m_update_ticks()\n\u001b[1;32m-> 1388\u001b[0m tlb1, tlb2 \u001b[38;5;241m=\u001b[39m \u001b[38;5;28mself\u001b[39m\u001b[38;5;241m.\u001b[39m_get_ticklabel_bboxes(ticks_to_draw, renderer)\n\u001b[0;32m   1390\u001b[0m \u001b[38;5;28;01mfor\u001b[39;00m tick \u001b[38;5;129;01min\u001b[39;00m ticks_to_draw:\n\u001b[0;32m   1391\u001b[0m     tick\u001b[38;5;241m.\u001b[39mdraw(renderer)\n",
      "File \u001b[1;32m~\\anaconda3\\Lib\\site-packages\\matplotlib\\axis.py:1315\u001b[0m, in \u001b[0;36mAxis._get_ticklabel_bboxes\u001b[1;34m(self, ticks, renderer)\u001b[0m\n\u001b[0;32m   1313\u001b[0m \u001b[38;5;28;01mif\u001b[39;00m renderer \u001b[38;5;129;01mis\u001b[39;00m \u001b[38;5;28;01mNone\u001b[39;00m:\n\u001b[0;32m   1314\u001b[0m     renderer \u001b[38;5;241m=\u001b[39m \u001b[38;5;28mself\u001b[39m\u001b[38;5;241m.\u001b[39mfigure\u001b[38;5;241m.\u001b[39m_get_renderer()\n\u001b[1;32m-> 1315\u001b[0m \u001b[38;5;28;01mreturn\u001b[39;00m ([tick\u001b[38;5;241m.\u001b[39mlabel1\u001b[38;5;241m.\u001b[39mget_window_extent(renderer)\n\u001b[0;32m   1316\u001b[0m          \u001b[38;5;28;01mfor\u001b[39;00m tick \u001b[38;5;129;01min\u001b[39;00m ticks \u001b[38;5;28;01mif\u001b[39;00m tick\u001b[38;5;241m.\u001b[39mlabel1\u001b[38;5;241m.\u001b[39mget_visible()],\n\u001b[0;32m   1317\u001b[0m         [tick\u001b[38;5;241m.\u001b[39mlabel2\u001b[38;5;241m.\u001b[39mget_window_extent(renderer)\n\u001b[0;32m   1318\u001b[0m          \u001b[38;5;28;01mfor\u001b[39;00m tick \u001b[38;5;129;01min\u001b[39;00m ticks \u001b[38;5;28;01mif\u001b[39;00m tick\u001b[38;5;241m.\u001b[39mlabel2\u001b[38;5;241m.\u001b[39mget_visible()])\n",
      "File \u001b[1;32m~\\anaconda3\\Lib\\site-packages\\matplotlib\\text.py:956\u001b[0m, in \u001b[0;36mText.get_window_extent\u001b[1;34m(self, renderer, dpi)\u001b[0m\n\u001b[0;32m    951\u001b[0m     \u001b[38;5;28;01mraise\u001b[39;00m \u001b[38;5;167;01mRuntimeError\u001b[39;00m(\n\u001b[0;32m    952\u001b[0m         \u001b[38;5;124m\"\u001b[39m\u001b[38;5;124mCannot get window extent of text w/o renderer. You likely \u001b[39m\u001b[38;5;124m\"\u001b[39m\n\u001b[0;32m    953\u001b[0m         \u001b[38;5;124m\"\u001b[39m\u001b[38;5;124mwant to call \u001b[39m\u001b[38;5;124m'\u001b[39m\u001b[38;5;124mfigure.draw_without_rendering()\u001b[39m\u001b[38;5;124m'\u001b[39m\u001b[38;5;124m first.\u001b[39m\u001b[38;5;124m\"\u001b[39m)\n\u001b[0;32m    955\u001b[0m \u001b[38;5;28;01mwith\u001b[39;00m cbook\u001b[38;5;241m.\u001b[39m_setattr_cm(\u001b[38;5;28mself\u001b[39m\u001b[38;5;241m.\u001b[39mfigure, dpi\u001b[38;5;241m=\u001b[39mdpi):\n\u001b[1;32m--> 956\u001b[0m     bbox, info, descent \u001b[38;5;241m=\u001b[39m \u001b[38;5;28mself\u001b[39m\u001b[38;5;241m.\u001b[39m_get_layout(\u001b[38;5;28mself\u001b[39m\u001b[38;5;241m.\u001b[39m_renderer)\n\u001b[0;32m    957\u001b[0m     x, y \u001b[38;5;241m=\u001b[39m \u001b[38;5;28mself\u001b[39m\u001b[38;5;241m.\u001b[39mget_unitless_position()\n\u001b[0;32m    958\u001b[0m     x, y \u001b[38;5;241m=\u001b[39m \u001b[38;5;28mself\u001b[39m\u001b[38;5;241m.\u001b[39mget_transform()\u001b[38;5;241m.\u001b[39mtransform((x, y))\n",
      "File \u001b[1;32m~\\anaconda3\\Lib\\site-packages\\matplotlib\\text.py:381\u001b[0m, in \u001b[0;36mText._get_layout\u001b[1;34m(self, renderer)\u001b[0m\n\u001b[0;32m    379\u001b[0m clean_line, ismath \u001b[38;5;241m=\u001b[39m \u001b[38;5;28mself\u001b[39m\u001b[38;5;241m.\u001b[39m_preprocess_math(line)\n\u001b[0;32m    380\u001b[0m \u001b[38;5;28;01mif\u001b[39;00m clean_line:\n\u001b[1;32m--> 381\u001b[0m     w, h, d \u001b[38;5;241m=\u001b[39m _get_text_metrics_with_cache(\n\u001b[0;32m    382\u001b[0m         renderer, clean_line, \u001b[38;5;28mself\u001b[39m\u001b[38;5;241m.\u001b[39m_fontproperties,\n\u001b[0;32m    383\u001b[0m         ismath\u001b[38;5;241m=\u001b[39mismath, dpi\u001b[38;5;241m=\u001b[39m\u001b[38;5;28mself\u001b[39m\u001b[38;5;241m.\u001b[39mfigure\u001b[38;5;241m.\u001b[39mdpi)\n\u001b[0;32m    384\u001b[0m \u001b[38;5;28;01melse\u001b[39;00m:\n\u001b[0;32m    385\u001b[0m     w \u001b[38;5;241m=\u001b[39m h \u001b[38;5;241m=\u001b[39m d \u001b[38;5;241m=\u001b[39m \u001b[38;5;241m0\u001b[39m\n",
      "File \u001b[1;32m~\\anaconda3\\Lib\\site-packages\\matplotlib\\text.py:69\u001b[0m, in \u001b[0;36m_get_text_metrics_with_cache\u001b[1;34m(renderer, text, fontprop, ismath, dpi)\u001b[0m\n\u001b[0;32m     66\u001b[0m \u001b[38;5;250m\u001b[39m\u001b[38;5;124;03m\"\"\"Call ``renderer.get_text_width_height_descent``, caching the results.\"\"\"\u001b[39;00m\n\u001b[0;32m     67\u001b[0m \u001b[38;5;66;03m# Cached based on a copy of fontprop so that later in-place mutations of\u001b[39;00m\n\u001b[0;32m     68\u001b[0m \u001b[38;5;66;03m# the passed-in argument do not mess up the cache.\u001b[39;00m\n\u001b[1;32m---> 69\u001b[0m \u001b[38;5;28;01mreturn\u001b[39;00m _get_text_metrics_with_cache_impl(\n\u001b[0;32m     70\u001b[0m     weakref\u001b[38;5;241m.\u001b[39mref(renderer), text, fontprop\u001b[38;5;241m.\u001b[39mcopy(), ismath, dpi)\n",
      "File \u001b[1;32m~\\anaconda3\\Lib\\site-packages\\matplotlib\\text.py:77\u001b[0m, in \u001b[0;36m_get_text_metrics_with_cache_impl\u001b[1;34m(renderer_ref, text, fontprop, ismath, dpi)\u001b[0m\n\u001b[0;32m     73\u001b[0m \u001b[38;5;129m@functools\u001b[39m\u001b[38;5;241m.\u001b[39mlru_cache(\u001b[38;5;241m4096\u001b[39m)\n\u001b[0;32m     74\u001b[0m \u001b[38;5;28;01mdef\u001b[39;00m \u001b[38;5;21m_get_text_metrics_with_cache_impl\u001b[39m(\n\u001b[0;32m     75\u001b[0m         renderer_ref, text, fontprop, ismath, dpi):\n\u001b[0;32m     76\u001b[0m     \u001b[38;5;66;03m# dpi is unused, but participates in cache invalidation (via the renderer).\u001b[39;00m\n\u001b[1;32m---> 77\u001b[0m     \u001b[38;5;28;01mreturn\u001b[39;00m renderer_ref()\u001b[38;5;241m.\u001b[39mget_text_width_height_descent(text, fontprop, ismath)\n",
      "File \u001b[1;32m~\\anaconda3\\Lib\\site-packages\\matplotlib\\backends\\backend_agg.py:221\u001b[0m, in \u001b[0;36mRendererAgg.get_text_width_height_descent\u001b[1;34m(self, s, prop, ismath)\u001b[0m\n\u001b[0;32m    218\u001b[0m     \u001b[38;5;28;01mreturn\u001b[39;00m width, height, descent\n\u001b[0;32m    220\u001b[0m font \u001b[38;5;241m=\u001b[39m \u001b[38;5;28mself\u001b[39m\u001b[38;5;241m.\u001b[39m_prepare_font(prop)\n\u001b[1;32m--> 221\u001b[0m font\u001b[38;5;241m.\u001b[39mset_text(s, \u001b[38;5;241m0.0\u001b[39m, flags\u001b[38;5;241m=\u001b[39mget_hinting_flag())\n\u001b[0;32m    222\u001b[0m w, h \u001b[38;5;241m=\u001b[39m font\u001b[38;5;241m.\u001b[39mget_width_height()  \u001b[38;5;66;03m# width and height of unrotated string\u001b[39;00m\n\u001b[0;32m    223\u001b[0m d \u001b[38;5;241m=\u001b[39m font\u001b[38;5;241m.\u001b[39mget_descent()\n",
      "\u001b[1;31mKeyboardInterrupt\u001b[0m: "
     ]
    }
   ],
   "source": [
    "# Visualizing the distribution of categorical features in batches\n",
    "categorical_features = df.select_dtypes(include=['object', 'bool']).columns\n",
    "\n",
    "batch_size = 10  # Number of features to plot at a time\n",
    "num_cols = 3  # Number of columns for the subplots\n",
    "\n",
    "# Loop through categorical features in batches\n",
    "for i in range(0, len(categorical_features), batch_size):\n",
    "    batch_features = categorical_features[i:i + batch_size]\n",
    "    num_rows = (len(batch_features) // num_cols) + (len(batch_features) % num_cols > 0)  # Calculate rows needed\n",
    "\n",
    "    plt.figure(figsize=(12, 5 * num_rows))\n",
    "    for j, feature in enumerate(batch_features, 1):\n",
    "        plt.subplot(num_rows, num_cols, j)\n",
    "        sns.countplot(data=df, x=feature)\n",
    "        plt.title(f'Distribution of {feature}')\n",
    "        plt.xticks(rotation=45)\n",
    "    plt.tight_layout()\n",
    "    plt.show()\n"
   ]
  },
  {
   "cell_type": "code",
   "execution_count": null,
   "id": "20e358b0-7a42-4238-b3b6-1c97e44b3498",
   "metadata": {},
   "outputs": [],
   "source": [
    "# Correlation Analysis\n",
    "correlation_matrix = df_encoded[numerical_features].corr()\n",
    "plt.figure(figsize=(12, 8))\n",
    "sns.heatmap(correlation_matrix, annot=True, fmt=\".2f\", cmap='coolwarm')\n",
    "plt.title('Correlation Matrix')\n",
    "plt.show()\n"
   ]
  },
  {
   "cell_type": "code",
   "execution_count": null,
   "id": "6c562127-914f-4ff9-a444-07395716965e",
   "metadata": {},
   "outputs": [],
   "source": [
    "# Identifying Missing Values\n",
    "missing_values = df_encoded.isnull().sum()\n",
    "print(\"Missing Values:\\n\", missing_values[missing_values > 0])\n"
   ]
  },
  {
   "cell_type": "code",
   "execution_count": null,
   "id": "d83d2661-e5f2-4836-ae82-3e5b6b6debf7",
   "metadata": {},
   "outputs": [],
   "source": [
    "# Outlier Detection using box plots\n",
    "plt.figure(figsize=(12, 10))\n",
    "for i, feature in enumerate(numerical_features, 1):\n",
    "    plt.subplot(3, 3, i)  # Adjust the number of rows and columns based on features\n",
    "    sns.boxplot(x=df_encoded[feature])\n",
    "    plt.title(f'Box Plot of {feature}')\n",
    "plt.tight_layout()\n",
    "plt.show()\n"
   ]
  },
  {
   "cell_type": "markdown",
   "id": "3c97cbee-6bea-4efc-8844-b60babbf1cbb",
   "metadata": {},
   "source": [
    "# Feature Engineering"
   ]
  },
  {
   "cell_type": "code",
   "execution_count": null,
   "id": "c135776b-ce13-4c2e-a832-045490c886bb",
   "metadata": {},
   "outputs": [],
   "source": [
    "# Create Aggregate Features\n",
    "agg_features = df_encoded.groupby('CustomerId').agg(\n",
    "    Total_Transaction_Amount=('log_amount', 'sum'),\n",
    "    Average_Transaction_Amount=('log_amount', 'mean'),\n",
    "    Transaction_Count=('log_amount', 'count'),\n",
    "    Std_Transaction_Amount=('log_amount', 'std')\n",
    ").reset_index()\n",
    "\n",
    "# Merging back with the original DataFrame if needed\n",
    "df_encoded = df_encoded.merge(agg_features, on='CustomerId', how='left')\n"
   ]
  },
  {
   "cell_type": "code",
   "execution_count": null,
   "id": "cb85c44a-3784-4d98-a8ed-1d8be17f6122",
   "metadata": {},
   "outputs": [],
   "source": []
  }
 ],
 "metadata": {
  "kernelspec": {
   "display_name": "Python 3 (ipykernel)",
   "language": "python",
   "name": "python3"
  },
  "language_info": {
   "codemirror_mode": {
    "name": "ipython",
    "version": 3
   },
   "file_extension": ".py",
   "mimetype": "text/x-python",
   "name": "python",
   "nbconvert_exporter": "python",
   "pygments_lexer": "ipython3",
   "version": "3.12.3"
  }
 },
 "nbformat": 4,
 "nbformat_minor": 5
}
